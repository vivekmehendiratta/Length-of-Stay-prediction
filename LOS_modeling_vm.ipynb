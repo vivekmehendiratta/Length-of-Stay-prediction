{
 "cells": [
  {
   "cell_type": "code",
   "execution_count": 92,
   "id": "ad997931",
   "metadata": {},
   "outputs": [],
   "source": [
    "import numpy as np\n",
    "import pandas as pd\n",
    "import matplotlib.pyplot as plt\n",
    "import seaborn as sns\n",
    "%matplotlib inline\n",
    "sns.set_style(\"whitegrid\")\n",
    "plt.style.use(\"fivethirtyeight\")\n",
    "\n",
    "# machine learning\n",
    "from sklearn.linear_model import LogisticRegression, LogisticRegressionCV\n",
    "from sklearn.ensemble import RandomForestClassifier\n",
    "from sklearn.neighbors import KNeighborsClassifier\n",
    "from sklearn.naive_bayes import MultinomialNB\n",
    "from sklearn.tree import DecisionTreeClassifier\n",
    "from sklearn.model_selection import cross_val_score\n",
    "\n",
    "from sklearn.model_selection import RandomizedSearchCV, GridSearchCV\n",
    "\n",
    "from matplotlib import pyplot\n",
    "\n",
    "from pprint import pprint\n"
   ]
  },
  {
   "cell_type": "code",
   "execution_count": 87,
   "id": "11983208",
   "metadata": {},
   "outputs": [],
   "source": [
    "import plotly.graph_objects as go\n",
    "import plotly.express as px\n",
    "\n",
    "import chart_studio as cs\n",
    "import chart_studio.plotly as py\n",
    "import chart_studio.tools as tls"
   ]
  },
  {
   "cell_type": "code",
   "execution_count": 124,
   "id": "401aeb85",
   "metadata": {},
   "outputs": [],
   "source": [
    "username = \"vivekmehendiratta\"\n",
    "api_key = \"nQrS2n3v7shKKPTKws4O\"\n",
    "\n",
    "tls.set_credentials_file(username=username, api_key=api_key)"
   ]
  },
  {
   "cell_type": "code",
   "execution_count": 2,
   "id": "23e6dd62",
   "metadata": {},
   "outputs": [
    {
     "data": {
      "text/plain": [
       "((318438, 15), (137057, 14))"
      ]
     },
     "execution_count": 2,
     "metadata": {},
     "output_type": "execute_result"
    }
   ],
   "source": [
    "train = pd.read_csv('train_data.csv')\n",
    "test = pd.read_csv('test_data.csv')\n",
    "dictionary = pd.read_csv('train_data_dictionary.csv')\n",
    "sample = pd.read_csv('sample_sub.csv')\n",
    "\n",
    "train[\"Stay\"] = train[\"Stay\"].replace(\"More than 100 Days\", \"Above 100\")\n",
    "\n",
    "train.drop([\"case_id\", \"patientid\", \"City_Code_Patient\"], axis = 1, inplace = True)\n",
    "test.drop([\"case_id\", \"patientid\", \"City_Code_Patient\"], axis = 1, inplace = True)\n",
    "\n",
    "train.shape, test.shape"
   ]
  },
  {
   "cell_type": "code",
   "execution_count": 3,
   "id": "988cc510",
   "metadata": {},
   "outputs": [],
   "source": [
    "combined = train.append(test)\n",
    "\n",
    "mode = combined[\"Bed Grade\"].value_counts().idxmax()\n",
    "combined[\"Bed Grade\"] = combined[\"Bed Grade\"].fillna(mode)\n",
    "train = combined[combined[\"Stay\"].notnull()]\n",
    "test = combined[combined[\"Stay\"].isnull()].drop(\"Stay\", axis = 1)"
   ]
  },
  {
   "cell_type": "code",
   "execution_count": 4,
   "id": "7a43048a",
   "metadata": {},
   "outputs": [
    {
     "data": {
      "text/plain": [
       "Hospital_code                        0\n",
       "Hospital_type_code                   0\n",
       "City_Code_Hospital                   0\n",
       "Hospital_region_code                 0\n",
       "Available Extra Rooms in Hospital    0\n",
       "Department                           0\n",
       "Ward_Type                            0\n",
       "Ward_Facility_Code                   0\n",
       "Bed Grade                            0\n",
       "Type of Admission                    0\n",
       "Severity of Illness                  0\n",
       "Visitors with Patient                0\n",
       "Age                                  0\n",
       "Admission_Deposit                    0\n",
       "dtype: int64"
      ]
     },
     "execution_count": 4,
     "metadata": {},
     "output_type": "execute_result"
    }
   ],
   "source": [
    "test.isnull().sum()"
   ]
  },
  {
   "cell_type": "code",
   "execution_count": 9,
   "id": "bd8312ac",
   "metadata": {},
   "outputs": [
    {
     "data": {
      "text/plain": [
       "3"
      ]
     },
     "execution_count": 9,
     "metadata": {},
     "output_type": "execute_result"
    }
   ],
   "source": [
    "len(set([1,2,3,4]).intersection(set([1,3,4,5])))"
   ]
  },
  {
   "cell_type": "code",
   "execution_count": 13,
   "id": "3e50dce7",
   "metadata": {},
   "outputs": [
    {
     "name": "stdout",
     "output_type": "stream",
     "text": [
      "Unique Values for Hospital_code\n",
      "[ 8  2 10 26 23 32  1 22 16  9  6 29 12  3 21 28 27 19  5 14 13 31 24 17\n",
      " 25 15 11 30 18  4  7 20]\n",
      "--------------------------------------\n",
      "\n",
      "Unique Values for Hospital_type_code\n",
      "['c' 'e' 'b' 'a' 'f' 'd' 'g']\n",
      "--------------------------------------\n",
      "\n",
      "Unique Values for City_Code_Hospital\n",
      "[ 3  5  1  2  6  9 10  4 11  7 13]\n",
      "--------------------------------------\n",
      "\n",
      "Unique Values for Hospital_region_code\n",
      "['Z' 'X' 'Y']\n",
      "--------------------------------------\n",
      "\n",
      "Unique Values for Available Extra Rooms in Hospital\n",
      "[ 3  2  1  4  6  5  7  8  9 10 12  0 11 20 14 21 13 24]\n",
      "--------------------------------------\n",
      "\n",
      "Unique Values for Department\n",
      "['radiotherapy' 'anesthesia' 'gynecology' 'TB & Chest disease' 'surgery']\n",
      "--------------------------------------\n",
      "\n",
      "Unique Values for Ward_Type\n",
      "['R' 'S' 'Q' 'P' 'T' 'U']\n",
      "--------------------------------------\n",
      "\n",
      "Unique Values for Ward_Facility_Code\n",
      "['F' 'E' 'D' 'B' 'A' 'C']\n",
      "--------------------------------------\n",
      "\n",
      "Unique Values for Bed Grade\n",
      "[2. 3. 4. 1.]\n",
      "--------------------------------------\n",
      "\n",
      "Unique Values for Type of Admission\n",
      "['Emergency' 'Trauma' 'Urgent']\n",
      "--------------------------------------\n",
      "\n",
      "Unique Values for Severity of Illness\n",
      "['Extreme' 'Moderate' 'Minor']\n",
      "--------------------------------------\n",
      "\n",
      "Unique Values for Visitors with Patient\n",
      "[ 2  4  3  8  6  7 13  5  1 10 15 11 12  9 24 16 14 20  0 19 18 17 23 21\n",
      " 32 30 22 25]\n",
      "--------------------------------------\n",
      "\n",
      "Unique Values for Age\n",
      "['51-60' '71-80' '31-40' '41-50' '81-90' '61-70' '21-30' '11-20' '0-10'\n",
      " '91-100']\n",
      "--------------------------------------\n",
      "\n",
      "Unique Values for Admission_Deposit\n",
      "[4911. 5954. 4745. ... 1937. 9439. 2349.]\n",
      "--------------------------------------\n",
      "\n",
      "Unique Values for Stay\n",
      "['0-10' '41-50' '31-40' '11-20' '51-60' '21-30' '71-80' 'Above 100'\n",
      " '81-90' '61-70' '91-100']\n",
      "--------------------------------------\n",
      "\n"
     ]
    }
   ],
   "source": [
    "# Check for unique values in every column\n",
    "for variable in train.columns:\n",
    "    print(f\"Unique Values for {variable}\")\n",
    "    print(train[variable].unique())\n",
    "    print('--------------------------------------')\n",
    "    print()"
   ]
  },
  {
   "cell_type": "code",
   "execution_count": 53,
   "id": "7abcbd65",
   "metadata": {},
   "outputs": [
    {
     "data": {
      "text/plain": [
       "((318438, 14), (318438,), (137057, 14))"
      ]
     },
     "execution_count": 53,
     "metadata": {},
     "output_type": "execute_result"
    }
   ],
   "source": [
    "X_train = train.drop(['Stay'], axis=1)\n",
    "y_train = train[\"Stay\"]\n",
    "X_test  = test.copy()\n",
    "X_train.shape, y_train.shape, X_test.shape"
   ]
  },
  {
   "cell_type": "code",
   "execution_count": 54,
   "id": "a673fdef",
   "metadata": {},
   "outputs": [],
   "source": [
    "cat_columns = [\n",
    "    'Hospital_code',\n",
    "'Hospital_type_code',\n",
    "'City_Code_Hospital',\n",
    "'Hospital_region_code',\n",
    "'Department',\n",
    "'Ward_Type',\n",
    "'Ward_Facility_Code',\n",
    "'Bed Grade',\n",
    "'Type of Admission',\n",
    "'Severity of Illness',\n",
    "'Age'\n",
    "]\n",
    "\n",
    "num_columns = [ 'Admission_Deposit', 'Available Extra Rooms in Hospital', 'Visitors with Patient']"
   ]
  },
  {
   "cell_type": "code",
   "execution_count": 55,
   "id": "10699d2e",
   "metadata": {},
   "outputs": [],
   "source": [
    "# One-hot encoding using pandas get_dummies function\n",
    "X_train_cat = X_train[cat_columns]\n",
    "X_train_cat = pd.get_dummies(X_train_cat.astype(str), drop_first=True)\n",
    "\n",
    "X_train_cat_nb = X_train[cat_columns]\n",
    "X_train_cat_nb = pd.get_dummies(X_train_cat_nb.astype(str), drop_first=False)\n",
    "\n",
    "X_test_cat = X_test[cat_columns]\n",
    "X_test_cat = pd.get_dummies(X_test_cat.astype(str), drop_first=True)\n",
    "\n",
    "X_test_cat_nb = X_test[cat_columns]\n",
    "X_test_cat_nb = pd.get_dummies(X_test_cat_nb.astype(str), drop_first=False)\n",
    "\n",
    "X_train = pd.concat([X_train_cat, X_train[num_columns]], axis = 1)\n",
    "X_test = pd.concat([X_test_cat, X_test[num_columns]], axis = 1)\n",
    "\n",
    "X_train_nb = pd.concat([X_train_cat_nb, train[num_columns]], axis = 1)\n",
    "X_test_nb = pd.concat([X_test_cat_nb, test[num_columns]], axis = 1)"
   ]
  },
  {
   "cell_type": "code",
   "execution_count": 65,
   "id": "45ec439c",
   "metadata": {},
   "outputs": [],
   "source": [
    "X_train_nb = pd.concat([X_train_cat_nb, train[num_columns]], axis = 1)\n",
    "X_test_nb = pd.concat([X_test_cat_nb, test[num_columns]], axis = 1)"
   ]
  },
  {
   "cell_type": "code",
   "execution_count": 56,
   "id": "a9273104",
   "metadata": {},
   "outputs": [
    {
     "data": {
      "text/plain": [
       "((318438, 82), (137057, 82), (318438, 93), (137057, 93))"
      ]
     },
     "execution_count": 56,
     "metadata": {},
     "output_type": "execute_result"
    }
   ],
   "source": [
    "X_train.shape, X_test.shape, X_train_nb.shape, X_test_nb.shape"
   ]
  },
  {
   "cell_type": "code",
   "execution_count": 57,
   "id": "d0965966",
   "metadata": {},
   "outputs": [],
   "source": [
    "# Scaling numeric columns\n",
    "from sklearn.preprocessing import StandardScaler\n",
    "\n",
    "ss= StandardScaler()\n",
    "\n",
    "X_train[num_columns]= ss.fit_transform(X_train[num_columns].values)\n",
    "X_test[num_columns]= ss.fit_transform(X_test[num_columns].values)"
   ]
  },
  {
   "cell_type": "code",
   "execution_count": 58,
   "id": "86a0d95f",
   "metadata": {},
   "outputs": [
    {
     "data": {
      "text/plain": [
       "((318438, 82), (137057, 82), (318438, 93), (137057, 93))"
      ]
     },
     "execution_count": 58,
     "metadata": {},
     "output_type": "execute_result"
    }
   ],
   "source": [
    "X_train.shape, X_test.shape, X_train_nb.shape, X_test_nb.shape"
   ]
  },
  {
   "cell_type": "code",
   "execution_count": 34,
   "id": "46d8f984",
   "metadata": {},
   "outputs": [],
   "source": [
    "# Logistic Regression Classifier\n",
    "log_reg = LogisticRegression()\n",
    "\n",
    "log_reg = LogisticRegression(solver='lbfgs', multi_class='auto', max_iter=1000)\n",
    "\n",
    "scores = cross_val_score(log_reg, X_train, y_train, cv=5)"
   ]
  },
  {
   "cell_type": "code",
   "execution_count": 35,
   "id": "531fddc3",
   "metadata": {},
   "outputs": [
    {
     "data": {
      "text/plain": [
       "0.39803348294925767"
      ]
     },
     "execution_count": 35,
     "metadata": {},
     "output_type": "execute_result"
    }
   ],
   "source": [
    "log_reg_cv_score = scores.mean()\n",
    "log_reg_cv_score"
   ]
  },
  {
   "cell_type": "markdown",
   "id": "a6ef9a3b",
   "metadata": {},
   "source": [
    "## Exhibit 9"
   ]
  },
  {
   "cell_type": "code",
   "execution_count": null,
   "id": "c3d0903a",
   "metadata": {},
   "outputs": [],
   "source": [
    "# Exhibit 9\n",
    "# get importance\n",
    "feature_importance = log_reg.coef_[0]\n",
    "\n",
    "#summarize important features\n",
    "print(\"Top 5 Important Features for Logistic Regression\\n\")\n",
    "print(\"Attribute\".center(35),\"Importance\".center(35), sep = \"\\t\")\n",
    "print(\"--------------------\".center(35),\"--------------------\".center(35), sep = \"\\t\")\n",
    "for importance, name in sorted(zip(abs(log_reg.coef_[0]), X_train.columns),reverse=True)[:5]:\n",
    "    print (name.center(35), format(importance,'.2f').center(35), sep = \"\\t\")\n",
    "# plot feature importance\n",
    "importances = pd.DataFrame(data={\n",
    "    'Attribute': X_train.columns,\n",
    "    'Importance': log_reg.coef_[0]\n",
    "})\n",
    "importances = importances.sort_values(by='Importance', ascending=False)\n",
    "\n",
    "fig9 = px.bar(importances, x='Attribute', y='Importance', color='#087E8B', labels={\n",
    "    'Attribute':'Coefficients',\n",
    "    'Importance':'Importance Score'\n",
    "})\n",
    "\n",
    "fig9.update_layout(title=\"Logistic Regression Feature importances (coefficients)\",title_x=0.5)\n",
    "fig9.show()\n",
    "\n",
    "py.plot(fig9, filename = \"Logistic Regression Feature importances (coefficients)\",  auto_open = False)"
   ]
  },
  {
   "cell_type": "code",
   "execution_count": 36,
   "id": "62c2cd49",
   "metadata": {},
   "outputs": [
    {
     "data": {
      "text/plain": [
       "0.30098477604307466"
      ]
     },
     "execution_count": 36,
     "metadata": {},
     "output_type": "execute_result"
    }
   ],
   "source": [
    "# KNN\n",
    "knn = KNeighborsClassifier(n_neighbors = 3)\n",
    "\n",
    "scores = cross_val_score(knn, X_train, y_train, cv=5)\n",
    "\n",
    "knn_cv_score = scores.mean()\n",
    "knn_cv_score"
   ]
  },
  {
   "cell_type": "code",
   "execution_count": 37,
   "id": "8bcfe0ab",
   "metadata": {},
   "outputs": [
    {
     "data": {
      "text/plain": [
       "0.2873369130735742"
      ]
     },
     "execution_count": 37,
     "metadata": {},
     "output_type": "execute_result"
    }
   ],
   "source": [
    "# Decision Tree\n",
    "\n",
    "#define model\n",
    "decision_tree = DecisionTreeClassifier()\n",
    "\n",
    "scores = cross_val_score(decision_tree, X_train, y_train, cv = 5)\n",
    "\n",
    "train_dt_cv_acc = scores.mean()\n",
    "train_dt_cv_acc"
   ]
  },
  {
   "cell_type": "markdown",
   "id": "668c0f63",
   "metadata": {},
   "source": [
    "## Exhibit 10"
   ]
  },
  {
   "cell_type": "code",
   "execution_count": null,
   "id": "a2901dd3",
   "metadata": {},
   "outputs": [],
   "source": [
    "# get importance\n",
    "feature_importance = decision_tree.feature_importances_\n",
    "\n",
    "# summarize feature importance\n",
    "print(\"Top 5 Important Features for Decision Tree\\n\")\n",
    "print(\"Attribute\".center(35),\"Importance\".center(35), sep = \"\\t\")\n",
    "print(\"--------------------\".center(35),\"--------------------\".center(35), sep = \"\\t\")\n",
    "for importance, name in sorted(zip(decision_tree.feature_importances_, X_train.columns),reverse=True)[:5]:\n",
    "    print (name.center(35), format(importance,'.2f').center(35), sep = \"\\t\")\n",
    "    \n",
    "# plot feature importance\n",
    "importances = pd.DataFrame(data={\n",
    "    'Attribute': X_train.columns,\n",
    "    'Importance': decision_tree.feature_importances_\n",
    "})\n",
    "importances = importances.sort_values(by='Importance', ascending=False) \n",
    "\n",
    "fig10 = px.bar(importances, x='Attribute', y='Importance', color='#087E8B', labels={\n",
    "    'Attribute':'Coefficients',\n",
    "    'Importance':'Importance Score'\n",
    "})\n",
    "\n",
    "fig10.update_layout(title=\"Decision Tree Feature importances (coefficients)\",title_x=0.5)\n",
    "fig10.show()\n",
    "\n",
    "py.plot(fig10, filename = \"Decision Tree Feature importances (coefficients)\",  auto_open = False)"
   ]
  },
  {
   "cell_type": "code",
   "execution_count": 38,
   "id": "981f676f",
   "metadata": {},
   "outputs": [
    {
     "data": {
      "text/plain": [
       "0.33487522214627863"
      ]
     },
     "execution_count": 38,
     "metadata": {},
     "output_type": "execute_result"
    }
   ],
   "source": [
    "# Random Forest\n",
    "\n",
    "#define model\n",
    "random_forest = RandomForestClassifier()\n",
    "\n",
    "scores = cross_val_score(random_forest, X_train, y_train, cv = 5)\n",
    "\n",
    "rf_cv_acc = scores.mean()\n",
    "rf_cv_acc"
   ]
  },
  {
   "cell_type": "markdown",
   "id": "c75f4468",
   "metadata": {},
   "source": [
    "## Exhibit 11"
   ]
  },
  {
   "cell_type": "code",
   "execution_count": null,
   "id": "ff17ed52",
   "metadata": {},
   "outputs": [],
   "source": [
    "# get importance\n",
    "feature_importance = random_forest.feature_importances_\n",
    "\n",
    "# summarize feature importance\n",
    "print(\"Top 5 Important Features for Random Forest\\n\")\n",
    "print(\"Attribute\".center(35),\"Importance\".center(35), sep = \"\\t\")\n",
    "print(\"--------------------\".center(35),\"--------------------\".center(35), sep = \"\\t\")\n",
    "for importance, name in sorted(zip(random_forest.feature_importances_, X_train.columns),reverse=True)[:5]:\n",
    "    print (name.center(35), format(importance,'.2f').center(35), sep = \"\\t\")\n",
    "    \n",
    "# plot feature importance\n",
    "importances = pd.DataFrame(data={\n",
    "    'Attribute': X_train.columns,\n",
    "    'Importance': random_forest.feature_importances_\n",
    "})\n",
    "importances = importances.sort_values(by='Importance', ascending=False) \n",
    "fig11 = px.bar(importances, x='Attribute', y='Importance', color='#087E8B', labels={\n",
    "    'Attribute':'Coefficients',\n",
    "    'Importance':'Importance Score'\n",
    "})\n",
    "\n",
    "fig11.update_layout(title=\"Random Forest Feature importances (coefficients)\",title_x=0.5)\n",
    "fig11.show()\n",
    "\n",
    "py.plot(fig11, filename = \"Random Forest Feature importances (coefficients)\",  auto_open = False)"
   ]
  },
  {
   "cell_type": "code",
   "execution_count": 66,
   "id": "82aa0f3a",
   "metadata": {},
   "outputs": [
    {
     "data": {
      "text/plain": [
       "0.3254228142775269"
      ]
     },
     "execution_count": 66,
     "metadata": {},
     "output_type": "execute_result"
    }
   ],
   "source": [
    "# Naive Bayes\n",
    "nb = MultinomialNB()\n",
    "\n",
    "scores = cross_val_score(nb, X_train_nb, y_train, cv = 5)\n",
    "\n",
    "nb_cv_acc = scores.mean()\n",
    "nb_cv_acc"
   ]
  },
  {
   "cell_type": "code",
   "execution_count": 69,
   "id": "3f5706c4",
   "metadata": {},
   "outputs": [
    {
     "data": {
      "text/plain": [
       "27.475050088243236"
      ]
     },
     "execution_count": 69,
     "metadata": {},
     "output_type": "execute_result"
    }
   ],
   "source": [
    "baseline_acc = train[\"Stay\"].value_counts(normalize = True).max()*100\n",
    "baseline_acc"
   ]
  },
  {
   "cell_type": "code",
   "execution_count": 71,
   "id": "f3459275",
   "metadata": {},
   "outputs": [
    {
     "data": {
      "text/plain": [
       "{'Baseline Accuracy': 27.475050088243236,\n",
       " 'Logistic Regression': 0.39803348294925767,\n",
       " 'Decision Tree': 0.2873369130735742,\n",
       " 'Random Forest Classifier': 0.33487522214627863,\n",
       " 'Naive Bayes': 0.3254228142775269}"
      ]
     },
     "execution_count": 71,
     "metadata": {},
     "output_type": "execute_result"
    }
   ],
   "source": [
    "classifier_scores = {\n",
    "    \"Baseline Accuracy\" : baseline_acc,\n",
    "    \"Logistic Regression\" : log_reg_cv_score,\n",
    "    \"Decision Tree\" : train_dt_cv_acc,\n",
    "    \"Random Forest Classifier\" : rf_cv_acc,\n",
    "    \"Naive Bayes\" : nb_cv_acc\n",
    "}\n",
    "classifier_scores"
   ]
  },
  {
   "cell_type": "code",
   "execution_count": 81,
   "id": "68bc787c",
   "metadata": {},
   "outputs": [
    {
     "name": "stdout",
     "output_type": "stream",
     "text": [
      "{'bootstrap': [True],\n",
      " 'max_depth': [2, 5, 10, 20, None],\n",
      " 'max_features': ['auto', 'sqrt'],\n",
      " 'min_samples_leaf': [1, 2, 4],\n",
      " 'min_samples_split': [2, 5, 10],\n",
      " 'n_estimators': [200, 500, 1000]}\n"
     ]
    }
   ],
   "source": [
    "# Hyper parameter Tuning Random Forest\n",
    "\n",
    "# Number of trees in random forest\n",
    "n_estimators = [200, 500, 1000]\n",
    "\n",
    "# Number of features to consider at every split\n",
    "max_features = ['auto', 'sqrt']\n",
    "\n",
    "# Maximum number of levels in tree\n",
    "max_depth = [2,5,10,20]\n",
    "max_depth.append(None)\n",
    "\n",
    "# Minimum number of samples required to split a node\n",
    "min_samples_split = [2, 5, 10]\n",
    "\n",
    "# Minimum number of samples required at each leaf node\n",
    "min_samples_leaf = [1, 2, 4]\n",
    "\n",
    "# Method of selecting samples for training each tree\n",
    "bootstrap = [True]\n",
    "\n",
    "# Create the random grid\n",
    "random_grid = {'n_estimators': n_estimators,\n",
    "               'max_features': max_features,\n",
    "               'max_depth': max_depth,\n",
    "               'min_samples_split': min_samples_split,\n",
    "               'min_samples_leaf': min_samples_leaf,\n",
    "               'bootstrap': bootstrap}\n",
    "\n",
    "pprint(random_grid)"
   ]
  },
  {
   "cell_type": "code",
   "execution_count": 77,
   "id": "94a11c3c",
   "metadata": {},
   "outputs": [
    {
     "name": "stdout",
     "output_type": "stream",
     "text": [
      "Fitting 3 folds for each of 10 candidates, totalling 30 fits\n",
      "[CV 1/3] END bootstrap=True, max_depth=2, max_features=sqrt, min_samples_leaf=1, min_samples_split=5, n_estimators=200;, score=0.290 total time=  11.5s\n",
      "[CV 2/3] END bootstrap=True, max_depth=2, max_features=sqrt, min_samples_leaf=1, min_samples_split=5, n_estimators=200;, score=0.293 total time=  11.5s\n",
      "[CV 3/3] END bootstrap=True, max_depth=2, max_features=sqrt, min_samples_leaf=1, min_samples_split=5, n_estimators=200;, score=0.290 total time=  11.6s\n",
      "[CV 1/3] END bootstrap=True, max_depth=10, max_features=auto, min_samples_leaf=1, min_samples_split=10, n_estimators=1000;, score=0.398 total time= 3.7min\n",
      "[CV 2/3] END bootstrap=True, max_depth=10, max_features=auto, min_samples_leaf=1, min_samples_split=10, n_estimators=1000;, score=0.399 total time= 3.8min\n",
      "[CV 3/3] END bootstrap=True, max_depth=10, max_features=auto, min_samples_leaf=1, min_samples_split=10, n_estimators=1000;, score=0.386 total time= 3.9min\n",
      "[CV 1/3] END bootstrap=True, max_depth=5, max_features=auto, min_samples_leaf=4, min_samples_split=10, n_estimators=500;, score=0.353 total time= 1.0min\n",
      "[CV 2/3] END bootstrap=True, max_depth=5, max_features=auto, min_samples_leaf=4, min_samples_split=10, n_estimators=500;, score=0.356 total time= 1.0min\n",
      "[CV 3/3] END bootstrap=True, max_depth=5, max_features=auto, min_samples_leaf=4, min_samples_split=10, n_estimators=500;, score=0.351 total time= 1.1min\n",
      "[CV 1/3] END bootstrap=True, max_depth=10, max_features=auto, min_samples_leaf=4, min_samples_split=2, n_estimators=500;, score=0.398 total time= 1.9min\n",
      "[CV 2/3] END bootstrap=True, max_depth=10, max_features=auto, min_samples_leaf=4, min_samples_split=2, n_estimators=500;, score=0.398 total time= 1.9min\n",
      "[CV 3/3] END bootstrap=True, max_depth=10, max_features=auto, min_samples_leaf=4, min_samples_split=2, n_estimators=500;, score=0.386 total time= 1.9min\n",
      "[CV 1/3] END bootstrap=True, max_depth=20, max_features=sqrt, min_samples_leaf=1, min_samples_split=10, n_estimators=500;, score=0.410 total time= 3.0min\n",
      "[CV 2/3] END bootstrap=True, max_depth=20, max_features=sqrt, min_samples_leaf=1, min_samples_split=10, n_estimators=500;, score=0.411 total time= 3.1min\n",
      "[CV 3/3] END bootstrap=True, max_depth=20, max_features=sqrt, min_samples_leaf=1, min_samples_split=10, n_estimators=500;, score=0.397 total time= 3.1min\n",
      "[CV 1/3] END bootstrap=True, max_depth=10, max_features=sqrt, min_samples_leaf=1, min_samples_split=2, n_estimators=1000;, score=0.398 total time= 3.7min\n",
      "[CV 2/3] END bootstrap=True, max_depth=10, max_features=sqrt, min_samples_leaf=1, min_samples_split=2, n_estimators=1000;, score=0.399 total time= 3.7min\n",
      "[CV 3/3] END bootstrap=True, max_depth=10, max_features=sqrt, min_samples_leaf=1, min_samples_split=2, n_estimators=1000;, score=0.386 total time= 3.7min\n",
      "[CV 1/3] END bootstrap=True, max_depth=20, max_features=sqrt, min_samples_leaf=4, min_samples_split=2, n_estimators=1000;, score=0.414 total time= 5.7min\n",
      "[CV 2/3] END bootstrap=True, max_depth=20, max_features=sqrt, min_samples_leaf=4, min_samples_split=2, n_estimators=1000;, score=0.413 total time= 5.8min\n",
      "[CV 3/3] END bootstrap=True, max_depth=20, max_features=sqrt, min_samples_leaf=4, min_samples_split=2, n_estimators=1000;, score=0.400 total time= 5.8min\n",
      "[CV 1/3] END bootstrap=True, max_depth=2, max_features=sqrt, min_samples_leaf=4, min_samples_split=2, n_estimators=200;, score=0.290 total time=  11.7s\n",
      "[CV 2/3] END bootstrap=True, max_depth=2, max_features=sqrt, min_samples_leaf=4, min_samples_split=2, n_estimators=200;, score=0.292 total time=  11.5s\n",
      "[CV 3/3] END bootstrap=True, max_depth=2, max_features=sqrt, min_samples_leaf=4, min_samples_split=2, n_estimators=200;, score=0.291 total time=  11.5s\n",
      "[CV 1/3] END bootstrap=True, max_depth=10, max_features=sqrt, min_samples_leaf=4, min_samples_split=5, n_estimators=1000;, score=0.399 total time= 3.7min\n",
      "[CV 2/3] END bootstrap=True, max_depth=10, max_features=sqrt, min_samples_leaf=4, min_samples_split=5, n_estimators=1000;, score=0.399 total time= 3.6min\n",
      "[CV 3/3] END bootstrap=True, max_depth=10, max_features=sqrt, min_samples_leaf=4, min_samples_split=5, n_estimators=1000;, score=0.386 total time= 3.6min\n",
      "[CV 1/3] END bootstrap=True, max_depth=None, max_features=sqrt, min_samples_leaf=1, min_samples_split=5, n_estimators=500;, score=0.377 total time= 4.1min\n",
      "[CV 2/3] END bootstrap=True, max_depth=None, max_features=sqrt, min_samples_leaf=1, min_samples_split=5, n_estimators=500;, score=0.376 total time= 4.0min\n",
      "[CV 3/3] END bootstrap=True, max_depth=None, max_features=sqrt, min_samples_leaf=1, min_samples_split=5, n_estimators=500;, score=0.368 total time= 3.9min\n"
     ]
    },
    {
     "data": {
      "text/plain": [
       "RandomizedSearchCV(cv=3, estimator=RandomForestClassifier(),\n",
       "                   param_distributions={'bootstrap': [True],\n",
       "                                        'max_depth': [2, 5, 10, 20, None],\n",
       "                                        'max_features': ['auto', 'sqrt'],\n",
       "                                        'min_samples_leaf': [1, 2, 4],\n",
       "                                        'min_samples_split': [2, 5, 10],\n",
       "                                        'n_estimators': [200, 500, 1000]},\n",
       "                   random_state=42, verbose=3)"
      ]
     },
     "execution_count": 77,
     "metadata": {},
     "output_type": "execute_result"
    }
   ],
   "source": [
    "# Use the random grid to search for best hyperparameters\n",
    "\n",
    "# First create the base model to tune\n",
    "rf = RandomForestClassifier()\n",
    "\n",
    "# Random search of parameters, using 3 fold cross validation, \n",
    "# search across 100 different combinations, and use all available cores\n",
    "rf_random = RandomizedSearchCV(estimator = rf, param_distributions = random_grid, cv = 3, verbose=3, random_state=42)\n",
    "\n",
    "# Fit the random search model\n",
    "rf_random.fit(X_train, y_train)"
   ]
  },
  {
   "cell_type": "code",
   "execution_count": 78,
   "id": "796e14fc",
   "metadata": {},
   "outputs": [
    {
     "data": {
      "text/plain": [
       "{'n_estimators': 1000,\n",
       " 'min_samples_split': 2,\n",
       " 'min_samples_leaf': 4,\n",
       " 'max_features': 'sqrt',\n",
       " 'max_depth': 20,\n",
       " 'bootstrap': True}"
      ]
     },
     "execution_count": 78,
     "metadata": {},
     "output_type": "execute_result"
    }
   ],
   "source": [
    "rf_random.best_params_"
   ]
  },
  {
   "cell_type": "code",
   "execution_count": 80,
   "id": "fc627cdb",
   "metadata": {},
   "outputs": [
    {
     "data": {
      "text/plain": [
       "0.4087577487611403"
      ]
     },
     "execution_count": 80,
     "metadata": {},
     "output_type": "execute_result"
    }
   ],
   "source": [
    "# Random Forest\n",
    "\n",
    "#define model\n",
    "random_forest = RandomForestClassifier(\n",
    "    n_estimators=1000, \n",
    "    min_samples_split=2, \n",
    "    min_samples_leaf=4, \n",
    "    max_features='sqrt',\n",
    "    max_depth=20, \n",
    "    bootstrap=True)\n",
    "\n",
    "scores = cross_val_score(random_forest, X_train, y_train, cv = 3)\n",
    "\n",
    "rf_best_cv_acc = scores.mean()\n",
    "rf_best_cv_acc"
   ]
  },
  {
   "cell_type": "markdown",
   "id": "5c587d14",
   "metadata": {},
   "source": [
    "## Exhibit 11"
   ]
  },
  {
   "cell_type": "code",
   "execution_count": 126,
   "id": "5c2dcc56",
   "metadata": {},
   "outputs": [
    {
     "name": "stdout",
     "output_type": "stream",
     "text": [
      "Top 10 Important Features for Random Forest\n",
      "\n",
      "             Attribute             \t             Importance            \n",
      "        --------------------       \t        --------------------       \n",
      "       Visitors with Patient       \t                0.31               \n",
      "         Admission_Deposit         \t                0.15               \n",
      " Available Extra Rooms in Hospital \t                0.06               \n",
      "            Ward_Type_S            \t                0.03               \n",
      "            Ward_Type_Q            \t                0.03               \n",
      "      Type of Admission_Trauma     \t                0.03               \n",
      "           Bed Grade_2.0           \t                0.03               \n",
      "     Severity of Illness_Minor     \t                0.02               \n",
      "            Ward_Type_R            \t                0.02               \n",
      "           Bed Grade_3.0           \t                0.02               \n"
     ]
    },
    {
     "data": {
      "application/vnd.plotly.v1+json": {
       "config": {
        "plotlyServerURL": "https://plotly.com"
       },
       "data": [
        {
         "alignmentgroup": "True",
         "hovertemplate": "Coefficients=%{x}<br>Importance Score=%{y}<extra></extra>",
         "legendgroup": "",
         "marker": {
          "color": "#636efa",
          "pattern": {
           "shape": ""
          }
         },
         "name": "",
         "offsetgroup": "",
         "orientation": "v",
         "showlegend": false,
         "textposition": "auto",
         "type": "bar",
         "x": [
          "Visitors with Patient",
          "Admission_Deposit",
          "Available Extra Rooms in Hospital",
          "Ward_Type_S",
          "Ward_Type_Q",
          "Type of Admission_Trauma",
          "Bed Grade_2.0",
          "Severity of Illness_Minor",
          "Ward_Type_R",
          "Bed Grade_3.0",
          "Severity of Illness_Moderate",
          "Bed Grade_4.0",
          "Department_gynecology",
          "Type of Admission_Urgent",
          "Age_41-50",
          "Age_31-40",
          "Age_51-60",
          "Age_71-80",
          "Age_21-30",
          "Age_61-70",
          "Department_radiotherapy",
          "Department_anesthesia",
          "Hospital_code_19",
          "Age_11-20",
          "Ward_Facility_Code_C",
          "City_Code_Hospital_7",
          "Age_81-90",
          "Hospital_code_26",
          "Hospital_code_14",
          "Ward_Facility_Code_F",
          "Hospital_code_23",
          "Ward_Facility_Code_E",
          "Hospital_region_code_Y",
          "City_Code_Hospital_6",
          "Hospital_type_code_c",
          "Ward_Facility_Code_D",
          "Hospital_type_code_b",
          "Hospital_region_code_Z",
          "City_Code_Hospital_2",
          "Hospital_type_code_d",
          "Hospital_type_code_e",
          "Hospital_code_27",
          "Hospital_code_6",
          "Hospital_code_24",
          "City_Code_Hospital_5",
          "City_Code_Hospital_3",
          "Hospital_code_11",
          "Ward_Facility_Code_B",
          "Hospital_code_25",
          "Hospital_code_30",
          "City_Code_Hospital_9",
          "Hospital_code_12",
          "Hospital_code_10",
          "Hospital_code_15",
          "Hospital_code_29",
          "Hospital_code_16",
          "Hospital_code_3",
          "Hospital_code_21",
          "City_Code_Hospital_4",
          "Hospital_code_9",
          "Hospital_type_code_f",
          "Hospital_code_17",
          "Hospital_code_32",
          "Hospital_code_2",
          "Hospital_code_28",
          "City_Code_Hospital_10",
          "City_Code_Hospital_11",
          "Hospital_code_31",
          "Hospital_code_22",
          "Hospital_code_5",
          "Hospital_code_13",
          "Hospital_type_code_g",
          "Hospital_code_18",
          "City_Code_Hospital_13",
          "Hospital_code_8",
          "Ward_Type_T",
          "Age_91-100",
          "Department_surgery",
          "Hospital_code_20",
          "Hospital_code_7",
          "Hospital_code_4",
          "Ward_Type_U"
         ],
         "xaxis": "x",
         "y": [
          0.31086350960571585,
          0.14885363967424775,
          0.05949509469507444,
          0.03320135128234051,
          0.030489991909414666,
          0.02941078467628803,
          0.026052509472956405,
          0.022833150119968743,
          0.02110192325423316,
          0.020417775218379744,
          0.018186023196154224,
          0.015886530702437174,
          0.014089813052189162,
          0.013876916955489631,
          0.013613986870921042,
          0.013421010004883807,
          0.012287582984285676,
          0.011321100446932228,
          0.011081764811281807,
          0.010347805778951401,
          0.009061449584546686,
          0.008878105929872331,
          0.008001419251015295,
          0.007015500415704188,
          0.005421630549295513,
          0.005351039818709118,
          0.004801892553569329,
          0.004510088624912975,
          0.004455828163321015,
          0.004105204792991336,
          0.0037759215029263297,
          0.003712320695613403,
          0.003533348851202531,
          0.003376787437548892,
          0.003318177991048044,
          0.0032992245618772994,
          0.0032124018527339543,
          0.0032045413601229813,
          0.003188239839704289,
          0.0029582758659972446,
          0.002918077525302606,
          0.002809372090201327,
          0.0027920638749936223,
          0.0027072254115668008,
          0.002634039582558164,
          0.0025858773710933443,
          0.002444788710739601,
          0.002289862864992874,
          0.0022530362710643233,
          0.0022527752520072318,
          0.002240397536470573,
          0.002193086326668017,
          0.0021454296652694154,
          0.002133672024061405,
          0.0018882096738718573,
          0.001860742170569545,
          0.001844928287916486,
          0.0018303230648933433,
          0.001790101342015181,
          0.0017879344496110788,
          0.0015815748055685345,
          0.0015316339583667838,
          0.0015091027608877916,
          0.0014565434387375706,
          0.0013192648241335434,
          0.0012914844130827406,
          0.0012861888825498346,
          0.001192092915705995,
          0.0011834878471522188,
          0.0011672475014474094,
          0.0011531521931216976,
          0.00113437192374222,
          0.0010840729991797836,
          0.0010712993514807535,
          0.0009311827329480691,
          0.0006942836424334847,
          0.0006391026605027416,
          0.0006350580683670161,
          0.0006152685628524165,
          0.0006084919494803512,
          0.0004994867175339759,
          0
         ],
         "yaxis": "y"
        }
       ],
       "layout": {
        "barmode": "relative",
        "legend": {
         "tracegroupgap": 0
        },
        "margin": {
         "t": 60
        },
        "template": {
         "data": {
          "bar": [
           {
            "error_x": {
             "color": "#2a3f5f"
            },
            "error_y": {
             "color": "#2a3f5f"
            },
            "marker": {
             "line": {
              "color": "#E5ECF6",
              "width": 0.5
             },
             "pattern": {
              "fillmode": "overlay",
              "size": 10,
              "solidity": 0.2
             }
            },
            "type": "bar"
           }
          ],
          "barpolar": [
           {
            "marker": {
             "line": {
              "color": "#E5ECF6",
              "width": 0.5
             },
             "pattern": {
              "fillmode": "overlay",
              "size": 10,
              "solidity": 0.2
             }
            },
            "type": "barpolar"
           }
          ],
          "carpet": [
           {
            "aaxis": {
             "endlinecolor": "#2a3f5f",
             "gridcolor": "white",
             "linecolor": "white",
             "minorgridcolor": "white",
             "startlinecolor": "#2a3f5f"
            },
            "baxis": {
             "endlinecolor": "#2a3f5f",
             "gridcolor": "white",
             "linecolor": "white",
             "minorgridcolor": "white",
             "startlinecolor": "#2a3f5f"
            },
            "type": "carpet"
           }
          ],
          "choropleth": [
           {
            "colorbar": {
             "outlinewidth": 0,
             "ticks": ""
            },
            "type": "choropleth"
           }
          ],
          "contour": [
           {
            "colorbar": {
             "outlinewidth": 0,
             "ticks": ""
            },
            "colorscale": [
             [
              0,
              "#0d0887"
             ],
             [
              0.1111111111111111,
              "#46039f"
             ],
             [
              0.2222222222222222,
              "#7201a8"
             ],
             [
              0.3333333333333333,
              "#9c179e"
             ],
             [
              0.4444444444444444,
              "#bd3786"
             ],
             [
              0.5555555555555556,
              "#d8576b"
             ],
             [
              0.6666666666666666,
              "#ed7953"
             ],
             [
              0.7777777777777778,
              "#fb9f3a"
             ],
             [
              0.8888888888888888,
              "#fdca26"
             ],
             [
              1,
              "#f0f921"
             ]
            ],
            "type": "contour"
           }
          ],
          "contourcarpet": [
           {
            "colorbar": {
             "outlinewidth": 0,
             "ticks": ""
            },
            "type": "contourcarpet"
           }
          ],
          "heatmap": [
           {
            "colorbar": {
             "outlinewidth": 0,
             "ticks": ""
            },
            "colorscale": [
             [
              0,
              "#0d0887"
             ],
             [
              0.1111111111111111,
              "#46039f"
             ],
             [
              0.2222222222222222,
              "#7201a8"
             ],
             [
              0.3333333333333333,
              "#9c179e"
             ],
             [
              0.4444444444444444,
              "#bd3786"
             ],
             [
              0.5555555555555556,
              "#d8576b"
             ],
             [
              0.6666666666666666,
              "#ed7953"
             ],
             [
              0.7777777777777778,
              "#fb9f3a"
             ],
             [
              0.8888888888888888,
              "#fdca26"
             ],
             [
              1,
              "#f0f921"
             ]
            ],
            "type": "heatmap"
           }
          ],
          "heatmapgl": [
           {
            "colorbar": {
             "outlinewidth": 0,
             "ticks": ""
            },
            "colorscale": [
             [
              0,
              "#0d0887"
             ],
             [
              0.1111111111111111,
              "#46039f"
             ],
             [
              0.2222222222222222,
              "#7201a8"
             ],
             [
              0.3333333333333333,
              "#9c179e"
             ],
             [
              0.4444444444444444,
              "#bd3786"
             ],
             [
              0.5555555555555556,
              "#d8576b"
             ],
             [
              0.6666666666666666,
              "#ed7953"
             ],
             [
              0.7777777777777778,
              "#fb9f3a"
             ],
             [
              0.8888888888888888,
              "#fdca26"
             ],
             [
              1,
              "#f0f921"
             ]
            ],
            "type": "heatmapgl"
           }
          ],
          "histogram": [
           {
            "marker": {
             "pattern": {
              "fillmode": "overlay",
              "size": 10,
              "solidity": 0.2
             }
            },
            "type": "histogram"
           }
          ],
          "histogram2d": [
           {
            "colorbar": {
             "outlinewidth": 0,
             "ticks": ""
            },
            "colorscale": [
             [
              0,
              "#0d0887"
             ],
             [
              0.1111111111111111,
              "#46039f"
             ],
             [
              0.2222222222222222,
              "#7201a8"
             ],
             [
              0.3333333333333333,
              "#9c179e"
             ],
             [
              0.4444444444444444,
              "#bd3786"
             ],
             [
              0.5555555555555556,
              "#d8576b"
             ],
             [
              0.6666666666666666,
              "#ed7953"
             ],
             [
              0.7777777777777778,
              "#fb9f3a"
             ],
             [
              0.8888888888888888,
              "#fdca26"
             ],
             [
              1,
              "#f0f921"
             ]
            ],
            "type": "histogram2d"
           }
          ],
          "histogram2dcontour": [
           {
            "colorbar": {
             "outlinewidth": 0,
             "ticks": ""
            },
            "colorscale": [
             [
              0,
              "#0d0887"
             ],
             [
              0.1111111111111111,
              "#46039f"
             ],
             [
              0.2222222222222222,
              "#7201a8"
             ],
             [
              0.3333333333333333,
              "#9c179e"
             ],
             [
              0.4444444444444444,
              "#bd3786"
             ],
             [
              0.5555555555555556,
              "#d8576b"
             ],
             [
              0.6666666666666666,
              "#ed7953"
             ],
             [
              0.7777777777777778,
              "#fb9f3a"
             ],
             [
              0.8888888888888888,
              "#fdca26"
             ],
             [
              1,
              "#f0f921"
             ]
            ],
            "type": "histogram2dcontour"
           }
          ],
          "mesh3d": [
           {
            "colorbar": {
             "outlinewidth": 0,
             "ticks": ""
            },
            "type": "mesh3d"
           }
          ],
          "parcoords": [
           {
            "line": {
             "colorbar": {
              "outlinewidth": 0,
              "ticks": ""
             }
            },
            "type": "parcoords"
           }
          ],
          "pie": [
           {
            "automargin": true,
            "type": "pie"
           }
          ],
          "scatter": [
           {
            "marker": {
             "colorbar": {
              "outlinewidth": 0,
              "ticks": ""
             }
            },
            "type": "scatter"
           }
          ],
          "scatter3d": [
           {
            "line": {
             "colorbar": {
              "outlinewidth": 0,
              "ticks": ""
             }
            },
            "marker": {
             "colorbar": {
              "outlinewidth": 0,
              "ticks": ""
             }
            },
            "type": "scatter3d"
           }
          ],
          "scattercarpet": [
           {
            "marker": {
             "colorbar": {
              "outlinewidth": 0,
              "ticks": ""
             }
            },
            "type": "scattercarpet"
           }
          ],
          "scattergeo": [
           {
            "marker": {
             "colorbar": {
              "outlinewidth": 0,
              "ticks": ""
             }
            },
            "type": "scattergeo"
           }
          ],
          "scattergl": [
           {
            "marker": {
             "colorbar": {
              "outlinewidth": 0,
              "ticks": ""
             }
            },
            "type": "scattergl"
           }
          ],
          "scattermapbox": [
           {
            "marker": {
             "colorbar": {
              "outlinewidth": 0,
              "ticks": ""
             }
            },
            "type": "scattermapbox"
           }
          ],
          "scatterpolar": [
           {
            "marker": {
             "colorbar": {
              "outlinewidth": 0,
              "ticks": ""
             }
            },
            "type": "scatterpolar"
           }
          ],
          "scatterpolargl": [
           {
            "marker": {
             "colorbar": {
              "outlinewidth": 0,
              "ticks": ""
             }
            },
            "type": "scatterpolargl"
           }
          ],
          "scatterternary": [
           {
            "marker": {
             "colorbar": {
              "outlinewidth": 0,
              "ticks": ""
             }
            },
            "type": "scatterternary"
           }
          ],
          "surface": [
           {
            "colorbar": {
             "outlinewidth": 0,
             "ticks": ""
            },
            "colorscale": [
             [
              0,
              "#0d0887"
             ],
             [
              0.1111111111111111,
              "#46039f"
             ],
             [
              0.2222222222222222,
              "#7201a8"
             ],
             [
              0.3333333333333333,
              "#9c179e"
             ],
             [
              0.4444444444444444,
              "#bd3786"
             ],
             [
              0.5555555555555556,
              "#d8576b"
             ],
             [
              0.6666666666666666,
              "#ed7953"
             ],
             [
              0.7777777777777778,
              "#fb9f3a"
             ],
             [
              0.8888888888888888,
              "#fdca26"
             ],
             [
              1,
              "#f0f921"
             ]
            ],
            "type": "surface"
           }
          ],
          "table": [
           {
            "cells": {
             "fill": {
              "color": "#EBF0F8"
             },
             "line": {
              "color": "white"
             }
            },
            "header": {
             "fill": {
              "color": "#C8D4E3"
             },
             "line": {
              "color": "white"
             }
            },
            "type": "table"
           }
          ]
         },
         "layout": {
          "annotationdefaults": {
           "arrowcolor": "#2a3f5f",
           "arrowhead": 0,
           "arrowwidth": 1
          },
          "autotypenumbers": "strict",
          "coloraxis": {
           "colorbar": {
            "outlinewidth": 0,
            "ticks": ""
           }
          },
          "colorscale": {
           "diverging": [
            [
             0,
             "#8e0152"
            ],
            [
             0.1,
             "#c51b7d"
            ],
            [
             0.2,
             "#de77ae"
            ],
            [
             0.3,
             "#f1b6da"
            ],
            [
             0.4,
             "#fde0ef"
            ],
            [
             0.5,
             "#f7f7f7"
            ],
            [
             0.6,
             "#e6f5d0"
            ],
            [
             0.7,
             "#b8e186"
            ],
            [
             0.8,
             "#7fbc41"
            ],
            [
             0.9,
             "#4d9221"
            ],
            [
             1,
             "#276419"
            ]
           ],
           "sequential": [
            [
             0,
             "#0d0887"
            ],
            [
             0.1111111111111111,
             "#46039f"
            ],
            [
             0.2222222222222222,
             "#7201a8"
            ],
            [
             0.3333333333333333,
             "#9c179e"
            ],
            [
             0.4444444444444444,
             "#bd3786"
            ],
            [
             0.5555555555555556,
             "#d8576b"
            ],
            [
             0.6666666666666666,
             "#ed7953"
            ],
            [
             0.7777777777777778,
             "#fb9f3a"
            ],
            [
             0.8888888888888888,
             "#fdca26"
            ],
            [
             1,
             "#f0f921"
            ]
           ],
           "sequentialminus": [
            [
             0,
             "#0d0887"
            ],
            [
             0.1111111111111111,
             "#46039f"
            ],
            [
             0.2222222222222222,
             "#7201a8"
            ],
            [
             0.3333333333333333,
             "#9c179e"
            ],
            [
             0.4444444444444444,
             "#bd3786"
            ],
            [
             0.5555555555555556,
             "#d8576b"
            ],
            [
             0.6666666666666666,
             "#ed7953"
            ],
            [
             0.7777777777777778,
             "#fb9f3a"
            ],
            [
             0.8888888888888888,
             "#fdca26"
            ],
            [
             1,
             "#f0f921"
            ]
           ]
          },
          "colorway": [
           "#636efa",
           "#EF553B",
           "#00cc96",
           "#ab63fa",
           "#FFA15A",
           "#19d3f3",
           "#FF6692",
           "#B6E880",
           "#FF97FF",
           "#FECB52"
          ],
          "font": {
           "color": "#2a3f5f"
          },
          "geo": {
           "bgcolor": "white",
           "lakecolor": "white",
           "landcolor": "#E5ECF6",
           "showlakes": true,
           "showland": true,
           "subunitcolor": "white"
          },
          "hoverlabel": {
           "align": "left"
          },
          "hovermode": "closest",
          "mapbox": {
           "style": "light"
          },
          "paper_bgcolor": "white",
          "plot_bgcolor": "#E5ECF6",
          "polar": {
           "angularaxis": {
            "gridcolor": "white",
            "linecolor": "white",
            "ticks": ""
           },
           "bgcolor": "#E5ECF6",
           "radialaxis": {
            "gridcolor": "white",
            "linecolor": "white",
            "ticks": ""
           }
          },
          "scene": {
           "xaxis": {
            "backgroundcolor": "#E5ECF6",
            "gridcolor": "white",
            "gridwidth": 2,
            "linecolor": "white",
            "showbackground": true,
            "ticks": "",
            "zerolinecolor": "white"
           },
           "yaxis": {
            "backgroundcolor": "#E5ECF6",
            "gridcolor": "white",
            "gridwidth": 2,
            "linecolor": "white",
            "showbackground": true,
            "ticks": "",
            "zerolinecolor": "white"
           },
           "zaxis": {
            "backgroundcolor": "#E5ECF6",
            "gridcolor": "white",
            "gridwidth": 2,
            "linecolor": "white",
            "showbackground": true,
            "ticks": "",
            "zerolinecolor": "white"
           }
          },
          "shapedefaults": {
           "line": {
            "color": "#2a3f5f"
           }
          },
          "ternary": {
           "aaxis": {
            "gridcolor": "white",
            "linecolor": "white",
            "ticks": ""
           },
           "baxis": {
            "gridcolor": "white",
            "linecolor": "white",
            "ticks": ""
           },
           "bgcolor": "#E5ECF6",
           "caxis": {
            "gridcolor": "white",
            "linecolor": "white",
            "ticks": ""
           }
          },
          "title": {
           "x": 0.05
          },
          "xaxis": {
           "automargin": true,
           "gridcolor": "white",
           "linecolor": "white",
           "ticks": "",
           "title": {
            "standoff": 15
           },
           "zerolinecolor": "white",
           "zerolinewidth": 2
          },
          "yaxis": {
           "automargin": true,
           "gridcolor": "white",
           "linecolor": "white",
           "ticks": "",
           "title": {
            "standoff": 15
           },
           "zerolinecolor": "white",
           "zerolinewidth": 2
          }
         }
        },
        "title": {
         "text": "Random Forest Feature importances (coefficients)",
         "x": 0.5
        },
        "xaxis": {
         "anchor": "y",
         "domain": [
          0,
          1
         ],
         "title": {
          "text": "Coefficients"
         }
        },
        "yaxis": {
         "anchor": "x",
         "domain": [
          0,
          1
         ],
         "title": {
          "text": "Importance Score"
         }
        }
       }
      },
      "text/html": [
       "<div>                            <div id=\"50d7f537-ea99-4d64-a674-3a0050dfafa8\" class=\"plotly-graph-div\" style=\"height:525px; width:100%;\"></div>            <script type=\"text/javascript\">                require([\"plotly\"], function(Plotly) {                    window.PLOTLYENV=window.PLOTLYENV || {};                                    if (document.getElementById(\"50d7f537-ea99-4d64-a674-3a0050dfafa8\")) {                    Plotly.newPlot(                        \"50d7f537-ea99-4d64-a674-3a0050dfafa8\",                        [{\"alignmentgroup\":\"True\",\"hovertemplate\":\"Coefficients=%{x}<br>Importance Score=%{y}<extra></extra>\",\"legendgroup\":\"\",\"marker\":{\"color\":\"#636efa\",\"pattern\":{\"shape\":\"\"}},\"name\":\"\",\"offsetgroup\":\"\",\"orientation\":\"v\",\"showlegend\":false,\"textposition\":\"auto\",\"type\":\"bar\",\"x\":[\"Visitors with Patient\",\"Admission_Deposit\",\"Available Extra Rooms in Hospital\",\"Ward_Type_S\",\"Ward_Type_Q\",\"Type of Admission_Trauma\",\"Bed Grade_2.0\",\"Severity of Illness_Minor\",\"Ward_Type_R\",\"Bed Grade_3.0\",\"Severity of Illness_Moderate\",\"Bed Grade_4.0\",\"Department_gynecology\",\"Type of Admission_Urgent\",\"Age_41-50\",\"Age_31-40\",\"Age_51-60\",\"Age_71-80\",\"Age_21-30\",\"Age_61-70\",\"Department_radiotherapy\",\"Department_anesthesia\",\"Hospital_code_19\",\"Age_11-20\",\"Ward_Facility_Code_C\",\"City_Code_Hospital_7\",\"Age_81-90\",\"Hospital_code_26\",\"Hospital_code_14\",\"Ward_Facility_Code_F\",\"Hospital_code_23\",\"Ward_Facility_Code_E\",\"Hospital_region_code_Y\",\"City_Code_Hospital_6\",\"Hospital_type_code_c\",\"Ward_Facility_Code_D\",\"Hospital_type_code_b\",\"Hospital_region_code_Z\",\"City_Code_Hospital_2\",\"Hospital_type_code_d\",\"Hospital_type_code_e\",\"Hospital_code_27\",\"Hospital_code_6\",\"Hospital_code_24\",\"City_Code_Hospital_5\",\"City_Code_Hospital_3\",\"Hospital_code_11\",\"Ward_Facility_Code_B\",\"Hospital_code_25\",\"Hospital_code_30\",\"City_Code_Hospital_9\",\"Hospital_code_12\",\"Hospital_code_10\",\"Hospital_code_15\",\"Hospital_code_29\",\"Hospital_code_16\",\"Hospital_code_3\",\"Hospital_code_21\",\"City_Code_Hospital_4\",\"Hospital_code_9\",\"Hospital_type_code_f\",\"Hospital_code_17\",\"Hospital_code_32\",\"Hospital_code_2\",\"Hospital_code_28\",\"City_Code_Hospital_10\",\"City_Code_Hospital_11\",\"Hospital_code_31\",\"Hospital_code_22\",\"Hospital_code_5\",\"Hospital_code_13\",\"Hospital_type_code_g\",\"Hospital_code_18\",\"City_Code_Hospital_13\",\"Hospital_code_8\",\"Ward_Type_T\",\"Age_91-100\",\"Department_surgery\",\"Hospital_code_20\",\"Hospital_code_7\",\"Hospital_code_4\",\"Ward_Type_U\"],\"xaxis\":\"x\",\"y\":[0.31086350960571585,0.14885363967424775,0.05949509469507444,0.03320135128234051,0.030489991909414666,0.02941078467628803,0.026052509472956405,0.022833150119968743,0.02110192325423316,0.020417775218379744,0.018186023196154224,0.015886530702437174,0.014089813052189162,0.013876916955489631,0.013613986870921042,0.013421010004883807,0.012287582984285676,0.011321100446932228,0.011081764811281807,0.010347805778951401,0.009061449584546686,0.008878105929872331,0.008001419251015295,0.007015500415704188,0.005421630549295513,0.005351039818709118,0.004801892553569329,0.004510088624912975,0.004455828163321015,0.004105204792991336,0.0037759215029263297,0.003712320695613403,0.003533348851202531,0.003376787437548892,0.003318177991048044,0.0032992245618772994,0.0032124018527339543,0.0032045413601229813,0.003188239839704289,0.0029582758659972446,0.002918077525302606,0.002809372090201327,0.0027920638749936223,0.0027072254115668008,0.002634039582558164,0.0025858773710933443,0.002444788710739601,0.002289862864992874,0.0022530362710643233,0.0022527752520072318,0.002240397536470573,0.002193086326668017,0.0021454296652694154,0.002133672024061405,0.0018882096738718573,0.001860742170569545,0.001844928287916486,0.0018303230648933433,0.001790101342015181,0.0017879344496110788,0.0015815748055685345,0.0015316339583667838,0.0015091027608877916,0.0014565434387375706,0.0013192648241335434,0.0012914844130827406,0.0012861888825498346,0.001192092915705995,0.0011834878471522188,0.0011672475014474094,0.0011531521931216976,0.00113437192374222,0.0010840729991797836,0.0010712993514807535,0.0009311827329480691,0.0006942836424334847,0.0006391026605027416,0.0006350580683670161,0.0006152685628524165,0.0006084919494803512,0.0004994867175339759,0.0],\"yaxis\":\"y\"}],                        {\"barmode\":\"relative\",\"legend\":{\"tracegroupgap\":0},\"margin\":{\"t\":60},\"template\":{\"data\":{\"bar\":[{\"error_x\":{\"color\":\"#2a3f5f\"},\"error_y\":{\"color\":\"#2a3f5f\"},\"marker\":{\"line\":{\"color\":\"#E5ECF6\",\"width\":0.5},\"pattern\":{\"fillmode\":\"overlay\",\"size\":10,\"solidity\":0.2}},\"type\":\"bar\"}],\"barpolar\":[{\"marker\":{\"line\":{\"color\":\"#E5ECF6\",\"width\":0.5},\"pattern\":{\"fillmode\":\"overlay\",\"size\":10,\"solidity\":0.2}},\"type\":\"barpolar\"}],\"carpet\":[{\"aaxis\":{\"endlinecolor\":\"#2a3f5f\",\"gridcolor\":\"white\",\"linecolor\":\"white\",\"minorgridcolor\":\"white\",\"startlinecolor\":\"#2a3f5f\"},\"baxis\":{\"endlinecolor\":\"#2a3f5f\",\"gridcolor\":\"white\",\"linecolor\":\"white\",\"minorgridcolor\":\"white\",\"startlinecolor\":\"#2a3f5f\"},\"type\":\"carpet\"}],\"choropleth\":[{\"colorbar\":{\"outlinewidth\":0,\"ticks\":\"\"},\"type\":\"choropleth\"}],\"contour\":[{\"colorbar\":{\"outlinewidth\":0,\"ticks\":\"\"},\"colorscale\":[[0.0,\"#0d0887\"],[0.1111111111111111,\"#46039f\"],[0.2222222222222222,\"#7201a8\"],[0.3333333333333333,\"#9c179e\"],[0.4444444444444444,\"#bd3786\"],[0.5555555555555556,\"#d8576b\"],[0.6666666666666666,\"#ed7953\"],[0.7777777777777778,\"#fb9f3a\"],[0.8888888888888888,\"#fdca26\"],[1.0,\"#f0f921\"]],\"type\":\"contour\"}],\"contourcarpet\":[{\"colorbar\":{\"outlinewidth\":0,\"ticks\":\"\"},\"type\":\"contourcarpet\"}],\"heatmap\":[{\"colorbar\":{\"outlinewidth\":0,\"ticks\":\"\"},\"colorscale\":[[0.0,\"#0d0887\"],[0.1111111111111111,\"#46039f\"],[0.2222222222222222,\"#7201a8\"],[0.3333333333333333,\"#9c179e\"],[0.4444444444444444,\"#bd3786\"],[0.5555555555555556,\"#d8576b\"],[0.6666666666666666,\"#ed7953\"],[0.7777777777777778,\"#fb9f3a\"],[0.8888888888888888,\"#fdca26\"],[1.0,\"#f0f921\"]],\"type\":\"heatmap\"}],\"heatmapgl\":[{\"colorbar\":{\"outlinewidth\":0,\"ticks\":\"\"},\"colorscale\":[[0.0,\"#0d0887\"],[0.1111111111111111,\"#46039f\"],[0.2222222222222222,\"#7201a8\"],[0.3333333333333333,\"#9c179e\"],[0.4444444444444444,\"#bd3786\"],[0.5555555555555556,\"#d8576b\"],[0.6666666666666666,\"#ed7953\"],[0.7777777777777778,\"#fb9f3a\"],[0.8888888888888888,\"#fdca26\"],[1.0,\"#f0f921\"]],\"type\":\"heatmapgl\"}],\"histogram\":[{\"marker\":{\"pattern\":{\"fillmode\":\"overlay\",\"size\":10,\"solidity\":0.2}},\"type\":\"histogram\"}],\"histogram2d\":[{\"colorbar\":{\"outlinewidth\":0,\"ticks\":\"\"},\"colorscale\":[[0.0,\"#0d0887\"],[0.1111111111111111,\"#46039f\"],[0.2222222222222222,\"#7201a8\"],[0.3333333333333333,\"#9c179e\"],[0.4444444444444444,\"#bd3786\"],[0.5555555555555556,\"#d8576b\"],[0.6666666666666666,\"#ed7953\"],[0.7777777777777778,\"#fb9f3a\"],[0.8888888888888888,\"#fdca26\"],[1.0,\"#f0f921\"]],\"type\":\"histogram2d\"}],\"histogram2dcontour\":[{\"colorbar\":{\"outlinewidth\":0,\"ticks\":\"\"},\"colorscale\":[[0.0,\"#0d0887\"],[0.1111111111111111,\"#46039f\"],[0.2222222222222222,\"#7201a8\"],[0.3333333333333333,\"#9c179e\"],[0.4444444444444444,\"#bd3786\"],[0.5555555555555556,\"#d8576b\"],[0.6666666666666666,\"#ed7953\"],[0.7777777777777778,\"#fb9f3a\"],[0.8888888888888888,\"#fdca26\"],[1.0,\"#f0f921\"]],\"type\":\"histogram2dcontour\"}],\"mesh3d\":[{\"colorbar\":{\"outlinewidth\":0,\"ticks\":\"\"},\"type\":\"mesh3d\"}],\"parcoords\":[{\"line\":{\"colorbar\":{\"outlinewidth\":0,\"ticks\":\"\"}},\"type\":\"parcoords\"}],\"pie\":[{\"automargin\":true,\"type\":\"pie\"}],\"scatter\":[{\"marker\":{\"colorbar\":{\"outlinewidth\":0,\"ticks\":\"\"}},\"type\":\"scatter\"}],\"scatter3d\":[{\"line\":{\"colorbar\":{\"outlinewidth\":0,\"ticks\":\"\"}},\"marker\":{\"colorbar\":{\"outlinewidth\":0,\"ticks\":\"\"}},\"type\":\"scatter3d\"}],\"scattercarpet\":[{\"marker\":{\"colorbar\":{\"outlinewidth\":0,\"ticks\":\"\"}},\"type\":\"scattercarpet\"}],\"scattergeo\":[{\"marker\":{\"colorbar\":{\"outlinewidth\":0,\"ticks\":\"\"}},\"type\":\"scattergeo\"}],\"scattergl\":[{\"marker\":{\"colorbar\":{\"outlinewidth\":0,\"ticks\":\"\"}},\"type\":\"scattergl\"}],\"scattermapbox\":[{\"marker\":{\"colorbar\":{\"outlinewidth\":0,\"ticks\":\"\"}},\"type\":\"scattermapbox\"}],\"scatterpolar\":[{\"marker\":{\"colorbar\":{\"outlinewidth\":0,\"ticks\":\"\"}},\"type\":\"scatterpolar\"}],\"scatterpolargl\":[{\"marker\":{\"colorbar\":{\"outlinewidth\":0,\"ticks\":\"\"}},\"type\":\"scatterpolargl\"}],\"scatterternary\":[{\"marker\":{\"colorbar\":{\"outlinewidth\":0,\"ticks\":\"\"}},\"type\":\"scatterternary\"}],\"surface\":[{\"colorbar\":{\"outlinewidth\":0,\"ticks\":\"\"},\"colorscale\":[[0.0,\"#0d0887\"],[0.1111111111111111,\"#46039f\"],[0.2222222222222222,\"#7201a8\"],[0.3333333333333333,\"#9c179e\"],[0.4444444444444444,\"#bd3786\"],[0.5555555555555556,\"#d8576b\"],[0.6666666666666666,\"#ed7953\"],[0.7777777777777778,\"#fb9f3a\"],[0.8888888888888888,\"#fdca26\"],[1.0,\"#f0f921\"]],\"type\":\"surface\"}],\"table\":[{\"cells\":{\"fill\":{\"color\":\"#EBF0F8\"},\"line\":{\"color\":\"white\"}},\"header\":{\"fill\":{\"color\":\"#C8D4E3\"},\"line\":{\"color\":\"white\"}},\"type\":\"table\"}]},\"layout\":{\"annotationdefaults\":{\"arrowcolor\":\"#2a3f5f\",\"arrowhead\":0,\"arrowwidth\":1},\"autotypenumbers\":\"strict\",\"coloraxis\":{\"colorbar\":{\"outlinewidth\":0,\"ticks\":\"\"}},\"colorscale\":{\"diverging\":[[0,\"#8e0152\"],[0.1,\"#c51b7d\"],[0.2,\"#de77ae\"],[0.3,\"#f1b6da\"],[0.4,\"#fde0ef\"],[0.5,\"#f7f7f7\"],[0.6,\"#e6f5d0\"],[0.7,\"#b8e186\"],[0.8,\"#7fbc41\"],[0.9,\"#4d9221\"],[1,\"#276419\"]],\"sequential\":[[0.0,\"#0d0887\"],[0.1111111111111111,\"#46039f\"],[0.2222222222222222,\"#7201a8\"],[0.3333333333333333,\"#9c179e\"],[0.4444444444444444,\"#bd3786\"],[0.5555555555555556,\"#d8576b\"],[0.6666666666666666,\"#ed7953\"],[0.7777777777777778,\"#fb9f3a\"],[0.8888888888888888,\"#fdca26\"],[1.0,\"#f0f921\"]],\"sequentialminus\":[[0.0,\"#0d0887\"],[0.1111111111111111,\"#46039f\"],[0.2222222222222222,\"#7201a8\"],[0.3333333333333333,\"#9c179e\"],[0.4444444444444444,\"#bd3786\"],[0.5555555555555556,\"#d8576b\"],[0.6666666666666666,\"#ed7953\"],[0.7777777777777778,\"#fb9f3a\"],[0.8888888888888888,\"#fdca26\"],[1.0,\"#f0f921\"]]},\"colorway\":[\"#636efa\",\"#EF553B\",\"#00cc96\",\"#ab63fa\",\"#FFA15A\",\"#19d3f3\",\"#FF6692\",\"#B6E880\",\"#FF97FF\",\"#FECB52\"],\"font\":{\"color\":\"#2a3f5f\"},\"geo\":{\"bgcolor\":\"white\",\"lakecolor\":\"white\",\"landcolor\":\"#E5ECF6\",\"showlakes\":true,\"showland\":true,\"subunitcolor\":\"white\"},\"hoverlabel\":{\"align\":\"left\"},\"hovermode\":\"closest\",\"mapbox\":{\"style\":\"light\"},\"paper_bgcolor\":\"white\",\"plot_bgcolor\":\"#E5ECF6\",\"polar\":{\"angularaxis\":{\"gridcolor\":\"white\",\"linecolor\":\"white\",\"ticks\":\"\"},\"bgcolor\":\"#E5ECF6\",\"radialaxis\":{\"gridcolor\":\"white\",\"linecolor\":\"white\",\"ticks\":\"\"}},\"scene\":{\"xaxis\":{\"backgroundcolor\":\"#E5ECF6\",\"gridcolor\":\"white\",\"gridwidth\":2,\"linecolor\":\"white\",\"showbackground\":true,\"ticks\":\"\",\"zerolinecolor\":\"white\"},\"yaxis\":{\"backgroundcolor\":\"#E5ECF6\",\"gridcolor\":\"white\",\"gridwidth\":2,\"linecolor\":\"white\",\"showbackground\":true,\"ticks\":\"\",\"zerolinecolor\":\"white\"},\"zaxis\":{\"backgroundcolor\":\"#E5ECF6\",\"gridcolor\":\"white\",\"gridwidth\":2,\"linecolor\":\"white\",\"showbackground\":true,\"ticks\":\"\",\"zerolinecolor\":\"white\"}},\"shapedefaults\":{\"line\":{\"color\":\"#2a3f5f\"}},\"ternary\":{\"aaxis\":{\"gridcolor\":\"white\",\"linecolor\":\"white\",\"ticks\":\"\"},\"baxis\":{\"gridcolor\":\"white\",\"linecolor\":\"white\",\"ticks\":\"\"},\"bgcolor\":\"#E5ECF6\",\"caxis\":{\"gridcolor\":\"white\",\"linecolor\":\"white\",\"ticks\":\"\"}},\"title\":{\"x\":0.05},\"xaxis\":{\"automargin\":true,\"gridcolor\":\"white\",\"linecolor\":\"white\",\"ticks\":\"\",\"title\":{\"standoff\":15},\"zerolinecolor\":\"white\",\"zerolinewidth\":2},\"yaxis\":{\"automargin\":true,\"gridcolor\":\"white\",\"linecolor\":\"white\",\"ticks\":\"\",\"title\":{\"standoff\":15},\"zerolinecolor\":\"white\",\"zerolinewidth\":2}}},\"title\":{\"text\":\"Random Forest Feature importances (coefficients)\",\"x\":0.5},\"xaxis\":{\"anchor\":\"y\",\"domain\":[0.0,1.0],\"title\":{\"text\":\"Coefficients\"}},\"yaxis\":{\"anchor\":\"x\",\"domain\":[0.0,1.0],\"title\":{\"text\":\"Importance Score\"}}},                        {\"responsive\": true}                    ).then(function(){\n",
       "                            \n",
       "var gd = document.getElementById('50d7f537-ea99-4d64-a674-3a0050dfafa8');\n",
       "var x = new MutationObserver(function (mutations, observer) {{\n",
       "        var display = window.getComputedStyle(gd).display;\n",
       "        if (!display || display === 'none') {{\n",
       "            console.log([gd, 'removed!']);\n",
       "            Plotly.purge(gd);\n",
       "            observer.disconnect();\n",
       "        }}\n",
       "}});\n",
       "\n",
       "// Listen for the removal of the full notebook cells\n",
       "var notebookContainer = gd.closest('#notebook-container');\n",
       "if (notebookContainer) {{\n",
       "    x.observe(notebookContainer, {childList: true});\n",
       "}}\n",
       "\n",
       "// Listen for the clearing of the current output cell\n",
       "var outputEl = gd.closest('.output');\n",
       "if (outputEl) {{\n",
       "    x.observe(outputEl, {childList: true});\n",
       "}}\n",
       "\n",
       "                        })                };                });            </script>        </div>"
      ]
     },
     "metadata": {},
     "output_type": "display_data"
    },
    {
     "data": {
      "text/plain": [
       "'https://plotly.com/~vivekmehendiratta/30/'"
      ]
     },
     "execution_count": 126,
     "metadata": {},
     "output_type": "execute_result"
    }
   ],
   "source": [
    "# random_forest.fit(X_train, y_train)\n",
    "# get importance\n",
    "feature_importance = random_forest.feature_importances_\n",
    "\n",
    "# summarize feature importance\n",
    "print(\"Top 10 Important Features for Random Forest\\n\")\n",
    "print(\"Attribute\".center(35),\"Importance\".center(35), sep = \"\\t\")\n",
    "print(\"--------------------\".center(35),\"--------------------\".center(35), sep = \"\\t\")\n",
    "for importance, name in sorted(zip(random_forest.feature_importances_, X_train.columns),reverse=True)[:10]:\n",
    "    print (name.center(35), format(importance,'.2f').center(35), sep = \"\\t\")\n",
    "    \n",
    "# plot feature importance\n",
    "importances = pd.DataFrame(data={\n",
    "    'Attribute': X_train.columns,\n",
    "    'Importance': random_forest.feature_importances_\n",
    "})\n",
    "importances = importances.sort_values(by='Importance', ascending=False) \n",
    "fig11 = px.bar(importances, x='Attribute', y='Importance', labels={\n",
    "    'Attribute':'Coefficients',\n",
    "    'Importance':'Importance Score'\n",
    "})\n",
    "\n",
    "fig11.update_layout(title=\"Random Forest Feature importances (coefficients)\",title_x=0.5)\n",
    "fig11.show()\n",
    "\n",
    "py.plot(fig11, filename = \"Random Forest Feature importances (coefficients)\",  auto_open = False)"
   ]
  },
  {
   "cell_type": "code",
   "execution_count": 97,
   "id": "7c2d47ae",
   "metadata": {},
   "outputs": [
    {
     "name": "stdout",
     "output_type": "stream",
     "text": [
      "{'C': [100, 10, 1.0, 0.1, 0.01],\n",
      " 'max_iter': [100, 200, 500, 1000],\n",
      " 'penalty': ['l2']}\n"
     ]
    }
   ],
   "source": [
    "# Hyper parameter Tuning Logistic\n",
    "\n",
    "penalty = ['l2']\n",
    "c_values = [100, 10, 1.0, 0.1, 0.01]\n",
    "max_iter = [100, 200, 500, 1000]\n",
    "\n",
    "# Create the random grid\n",
    "grid = {'penalty': penalty,\n",
    "               'C': c_values,\n",
    "       'max_iter':max_iter}\n",
    "\n",
    "pprint(grid)"
   ]
  },
  {
   "cell_type": "code",
   "execution_count": 98,
   "id": "e779ca4a",
   "metadata": {},
   "outputs": [
    {
     "name": "stdout",
     "output_type": "stream",
     "text": [
      "Fitting 3 folds for each of 20 candidates, totalling 60 fits\n",
      "[CV 1/3; 1/20] START C=100, max_iter=100, penalty=l2............................\n"
     ]
    },
    {
     "name": "stderr",
     "output_type": "stream",
     "text": [
      "c:\\users\\mehen\\appdata\\local\\programs\\python\\python39\\lib\\site-packages\\sklearn\\linear_model\\_logistic.py:763: ConvergenceWarning:\n",
      "\n",
      "lbfgs failed to converge (status=1):\n",
      "STOP: TOTAL NO. of ITERATIONS REACHED LIMIT.\n",
      "\n",
      "Increase the number of iterations (max_iter) or scale the data as shown in:\n",
      "    https://scikit-learn.org/stable/modules/preprocessing.html\n",
      "Please also refer to the documentation for alternative solver options:\n",
      "    https://scikit-learn.org/stable/modules/linear_model.html#logistic-regression\n",
      "\n"
     ]
    },
    {
     "name": "stdout",
     "output_type": "stream",
     "text": [
      "[CV 1/3; 1/20] END C=100, max_iter=100, penalty=l2;, score=0.400 total time=  19.5s\n",
      "[CV 2/3; 1/20] START C=100, max_iter=100, penalty=l2............................\n"
     ]
    },
    {
     "name": "stderr",
     "output_type": "stream",
     "text": [
      "c:\\users\\mehen\\appdata\\local\\programs\\python\\python39\\lib\\site-packages\\sklearn\\linear_model\\_logistic.py:763: ConvergenceWarning:\n",
      "\n",
      "lbfgs failed to converge (status=1):\n",
      "STOP: TOTAL NO. of ITERATIONS REACHED LIMIT.\n",
      "\n",
      "Increase the number of iterations (max_iter) or scale the data as shown in:\n",
      "    https://scikit-learn.org/stable/modules/preprocessing.html\n",
      "Please also refer to the documentation for alternative solver options:\n",
      "    https://scikit-learn.org/stable/modules/linear_model.html#logistic-regression\n",
      "\n"
     ]
    },
    {
     "name": "stdout",
     "output_type": "stream",
     "text": [
      "[CV 2/3; 1/20] END C=100, max_iter=100, penalty=l2;, score=0.404 total time=  20.1s\n",
      "[CV 3/3; 1/20] START C=100, max_iter=100, penalty=l2............................\n"
     ]
    },
    {
     "name": "stderr",
     "output_type": "stream",
     "text": [
      "c:\\users\\mehen\\appdata\\local\\programs\\python\\python39\\lib\\site-packages\\sklearn\\linear_model\\_logistic.py:763: ConvergenceWarning:\n",
      "\n",
      "lbfgs failed to converge (status=1):\n",
      "STOP: TOTAL NO. of ITERATIONS REACHED LIMIT.\n",
      "\n",
      "Increase the number of iterations (max_iter) or scale the data as shown in:\n",
      "    https://scikit-learn.org/stable/modules/preprocessing.html\n",
      "Please also refer to the documentation for alternative solver options:\n",
      "    https://scikit-learn.org/stable/modules/linear_model.html#logistic-regression\n",
      "\n"
     ]
    },
    {
     "name": "stdout",
     "output_type": "stream",
     "text": [
      "[CV 3/3; 1/20] END C=100, max_iter=100, penalty=l2;, score=0.388 total time=  21.6s\n",
      "[CV 1/3; 2/20] START C=100, max_iter=200, penalty=l2............................\n"
     ]
    },
    {
     "name": "stderr",
     "output_type": "stream",
     "text": [
      "c:\\users\\mehen\\appdata\\local\\programs\\python\\python39\\lib\\site-packages\\sklearn\\linear_model\\_logistic.py:763: ConvergenceWarning:\n",
      "\n",
      "lbfgs failed to converge (status=1):\n",
      "STOP: TOTAL NO. of ITERATIONS REACHED LIMIT.\n",
      "\n",
      "Increase the number of iterations (max_iter) or scale the data as shown in:\n",
      "    https://scikit-learn.org/stable/modules/preprocessing.html\n",
      "Please also refer to the documentation for alternative solver options:\n",
      "    https://scikit-learn.org/stable/modules/linear_model.html#logistic-regression\n",
      "\n"
     ]
    },
    {
     "name": "stdout",
     "output_type": "stream",
     "text": [
      "[CV 1/3; 2/20] END C=100, max_iter=200, penalty=l2;, score=0.400 total time=  40.0s\n",
      "[CV 2/3; 2/20] START C=100, max_iter=200, penalty=l2............................\n"
     ]
    },
    {
     "name": "stderr",
     "output_type": "stream",
     "text": [
      "c:\\users\\mehen\\appdata\\local\\programs\\python\\python39\\lib\\site-packages\\sklearn\\linear_model\\_logistic.py:763: ConvergenceWarning:\n",
      "\n",
      "lbfgs failed to converge (status=1):\n",
      "STOP: TOTAL NO. of ITERATIONS REACHED LIMIT.\n",
      "\n",
      "Increase the number of iterations (max_iter) or scale the data as shown in:\n",
      "    https://scikit-learn.org/stable/modules/preprocessing.html\n",
      "Please also refer to the documentation for alternative solver options:\n",
      "    https://scikit-learn.org/stable/modules/linear_model.html#logistic-regression\n",
      "\n"
     ]
    },
    {
     "name": "stdout",
     "output_type": "stream",
     "text": [
      "[CV 2/3; 2/20] END C=100, max_iter=200, penalty=l2;, score=0.403 total time=  39.4s\n",
      "[CV 3/3; 2/20] START C=100, max_iter=200, penalty=l2............................\n"
     ]
    },
    {
     "name": "stderr",
     "output_type": "stream",
     "text": [
      "c:\\users\\mehen\\appdata\\local\\programs\\python\\python39\\lib\\site-packages\\sklearn\\linear_model\\_logistic.py:763: ConvergenceWarning:\n",
      "\n",
      "lbfgs failed to converge (status=1):\n",
      "STOP: TOTAL NO. of ITERATIONS REACHED LIMIT.\n",
      "\n",
      "Increase the number of iterations (max_iter) or scale the data as shown in:\n",
      "    https://scikit-learn.org/stable/modules/preprocessing.html\n",
      "Please also refer to the documentation for alternative solver options:\n",
      "    https://scikit-learn.org/stable/modules/linear_model.html#logistic-regression\n",
      "\n"
     ]
    },
    {
     "name": "stdout",
     "output_type": "stream",
     "text": [
      "[CV 3/3; 2/20] END C=100, max_iter=200, penalty=l2;, score=0.387 total time=  38.7s\n",
      "[CV 1/3; 3/20] START C=100, max_iter=500, penalty=l2............................\n"
     ]
    },
    {
     "name": "stderr",
     "output_type": "stream",
     "text": [
      "c:\\users\\mehen\\appdata\\local\\programs\\python\\python39\\lib\\site-packages\\sklearn\\linear_model\\_logistic.py:763: ConvergenceWarning:\n",
      "\n",
      "lbfgs failed to converge (status=1):\n",
      "STOP: TOTAL NO. of ITERATIONS REACHED LIMIT.\n",
      "\n",
      "Increase the number of iterations (max_iter) or scale the data as shown in:\n",
      "    https://scikit-learn.org/stable/modules/preprocessing.html\n",
      "Please also refer to the documentation for alternative solver options:\n",
      "    https://scikit-learn.org/stable/modules/linear_model.html#logistic-regression\n",
      "\n"
     ]
    },
    {
     "name": "stdout",
     "output_type": "stream",
     "text": [
      "[CV 1/3; 3/20] END C=100, max_iter=500, penalty=l2;, score=0.400 total time= 1.6min\n",
      "[CV 2/3; 3/20] START C=100, max_iter=500, penalty=l2............................\n"
     ]
    },
    {
     "name": "stderr",
     "output_type": "stream",
     "text": [
      "c:\\users\\mehen\\appdata\\local\\programs\\python\\python39\\lib\\site-packages\\sklearn\\linear_model\\_logistic.py:763: ConvergenceWarning:\n",
      "\n",
      "lbfgs failed to converge (status=1):\n",
      "STOP: TOTAL NO. of ITERATIONS REACHED LIMIT.\n",
      "\n",
      "Increase the number of iterations (max_iter) or scale the data as shown in:\n",
      "    https://scikit-learn.org/stable/modules/preprocessing.html\n",
      "Please also refer to the documentation for alternative solver options:\n",
      "    https://scikit-learn.org/stable/modules/linear_model.html#logistic-regression\n",
      "\n"
     ]
    },
    {
     "name": "stdout",
     "output_type": "stream",
     "text": [
      "[CV 2/3; 3/20] END C=100, max_iter=500, penalty=l2;, score=0.404 total time= 1.6min\n",
      "[CV 3/3; 3/20] START C=100, max_iter=500, penalty=l2............................\n"
     ]
    },
    {
     "name": "stderr",
     "output_type": "stream",
     "text": [
      "c:\\users\\mehen\\appdata\\local\\programs\\python\\python39\\lib\\site-packages\\sklearn\\linear_model\\_logistic.py:763: ConvergenceWarning:\n",
      "\n",
      "lbfgs failed to converge (status=1):\n",
      "STOP: TOTAL NO. of ITERATIONS REACHED LIMIT.\n",
      "\n",
      "Increase the number of iterations (max_iter) or scale the data as shown in:\n",
      "    https://scikit-learn.org/stable/modules/preprocessing.html\n",
      "Please also refer to the documentation for alternative solver options:\n",
      "    https://scikit-learn.org/stable/modules/linear_model.html#logistic-regression\n",
      "\n"
     ]
    },
    {
     "name": "stdout",
     "output_type": "stream",
     "text": [
      "[CV 3/3; 3/20] END C=100, max_iter=500, penalty=l2;, score=0.387 total time= 1.6min\n",
      "[CV 1/3; 4/20] START C=100, max_iter=1000, penalty=l2...........................\n",
      "[CV 1/3; 4/20] END C=100, max_iter=1000, penalty=l2;, score=0.400 total time= 1.7min\n",
      "[CV 2/3; 4/20] START C=100, max_iter=1000, penalty=l2...........................\n",
      "[CV 2/3; 4/20] END C=100, max_iter=1000, penalty=l2;, score=0.404 total time= 1.9min\n",
      "[CV 3/3; 4/20] START C=100, max_iter=1000, penalty=l2...........................\n",
      "[CV 3/3; 4/20] END C=100, max_iter=1000, penalty=l2;, score=0.387 total time= 2.0min\n",
      "[CV 1/3; 5/20] START C=10, max_iter=100, penalty=l2.............................\n"
     ]
    },
    {
     "name": "stderr",
     "output_type": "stream",
     "text": [
      "c:\\users\\mehen\\appdata\\local\\programs\\python\\python39\\lib\\site-packages\\sklearn\\linear_model\\_logistic.py:763: ConvergenceWarning:\n",
      "\n",
      "lbfgs failed to converge (status=1):\n",
      "STOP: TOTAL NO. of ITERATIONS REACHED LIMIT.\n",
      "\n",
      "Increase the number of iterations (max_iter) or scale the data as shown in:\n",
      "    https://scikit-learn.org/stable/modules/preprocessing.html\n",
      "Please also refer to the documentation for alternative solver options:\n",
      "    https://scikit-learn.org/stable/modules/linear_model.html#logistic-regression\n",
      "\n"
     ]
    },
    {
     "name": "stdout",
     "output_type": "stream",
     "text": [
      "[CV 1/3; 5/20] END C=10, max_iter=100, penalty=l2;, score=0.400 total time=  18.2s\n",
      "[CV 2/3; 5/20] START C=10, max_iter=100, penalty=l2.............................\n"
     ]
    },
    {
     "name": "stderr",
     "output_type": "stream",
     "text": [
      "c:\\users\\mehen\\appdata\\local\\programs\\python\\python39\\lib\\site-packages\\sklearn\\linear_model\\_logistic.py:763: ConvergenceWarning:\n",
      "\n",
      "lbfgs failed to converge (status=1):\n",
      "STOP: TOTAL NO. of ITERATIONS REACHED LIMIT.\n",
      "\n",
      "Increase the number of iterations (max_iter) or scale the data as shown in:\n",
      "    https://scikit-learn.org/stable/modules/preprocessing.html\n",
      "Please also refer to the documentation for alternative solver options:\n",
      "    https://scikit-learn.org/stable/modules/linear_model.html#logistic-regression\n",
      "\n"
     ]
    },
    {
     "name": "stdout",
     "output_type": "stream",
     "text": [
      "[CV 2/3; 5/20] END C=10, max_iter=100, penalty=l2;, score=0.404 total time=  19.2s\n",
      "[CV 3/3; 5/20] START C=10, max_iter=100, penalty=l2.............................\n"
     ]
    },
    {
     "name": "stderr",
     "output_type": "stream",
     "text": [
      "c:\\users\\mehen\\appdata\\local\\programs\\python\\python39\\lib\\site-packages\\sklearn\\linear_model\\_logistic.py:763: ConvergenceWarning:\n",
      "\n",
      "lbfgs failed to converge (status=1):\n",
      "STOP: TOTAL NO. of ITERATIONS REACHED LIMIT.\n",
      "\n",
      "Increase the number of iterations (max_iter) or scale the data as shown in:\n",
      "    https://scikit-learn.org/stable/modules/preprocessing.html\n",
      "Please also refer to the documentation for alternative solver options:\n",
      "    https://scikit-learn.org/stable/modules/linear_model.html#logistic-regression\n",
      "\n"
     ]
    },
    {
     "name": "stdout",
     "output_type": "stream",
     "text": [
      "[CV 3/3; 5/20] END C=10, max_iter=100, penalty=l2;, score=0.388 total time=  18.7s\n",
      "[CV 1/3; 6/20] START C=10, max_iter=200, penalty=l2.............................\n"
     ]
    },
    {
     "name": "stderr",
     "output_type": "stream",
     "text": [
      "c:\\users\\mehen\\appdata\\local\\programs\\python\\python39\\lib\\site-packages\\sklearn\\linear_model\\_logistic.py:763: ConvergenceWarning:\n",
      "\n",
      "lbfgs failed to converge (status=1):\n",
      "STOP: TOTAL NO. of ITERATIONS REACHED LIMIT.\n",
      "\n",
      "Increase the number of iterations (max_iter) or scale the data as shown in:\n",
      "    https://scikit-learn.org/stable/modules/preprocessing.html\n",
      "Please also refer to the documentation for alternative solver options:\n",
      "    https://scikit-learn.org/stable/modules/linear_model.html#logistic-regression\n",
      "\n"
     ]
    },
    {
     "name": "stdout",
     "output_type": "stream",
     "text": [
      "[CV 1/3; 6/20] END C=10, max_iter=200, penalty=l2;, score=0.400 total time=  35.9s\n",
      "[CV 2/3; 6/20] START C=10, max_iter=200, penalty=l2.............................\n"
     ]
    },
    {
     "name": "stderr",
     "output_type": "stream",
     "text": [
      "c:\\users\\mehen\\appdata\\local\\programs\\python\\python39\\lib\\site-packages\\sklearn\\linear_model\\_logistic.py:763: ConvergenceWarning:\n",
      "\n",
      "lbfgs failed to converge (status=1):\n",
      "STOP: TOTAL NO. of ITERATIONS REACHED LIMIT.\n",
      "\n",
      "Increase the number of iterations (max_iter) or scale the data as shown in:\n",
      "    https://scikit-learn.org/stable/modules/preprocessing.html\n",
      "Please also refer to the documentation for alternative solver options:\n",
      "    https://scikit-learn.org/stable/modules/linear_model.html#logistic-regression\n",
      "\n"
     ]
    },
    {
     "name": "stdout",
     "output_type": "stream",
     "text": [
      "[CV 2/3; 6/20] END C=10, max_iter=200, penalty=l2;, score=0.403 total time=  36.3s\n",
      "[CV 3/3; 6/20] START C=10, max_iter=200, penalty=l2.............................\n"
     ]
    },
    {
     "name": "stderr",
     "output_type": "stream",
     "text": [
      "c:\\users\\mehen\\appdata\\local\\programs\\python\\python39\\lib\\site-packages\\sklearn\\linear_model\\_logistic.py:763: ConvergenceWarning:\n",
      "\n",
      "lbfgs failed to converge (status=1):\n",
      "STOP: TOTAL NO. of ITERATIONS REACHED LIMIT.\n",
      "\n",
      "Increase the number of iterations (max_iter) or scale the data as shown in:\n",
      "    https://scikit-learn.org/stable/modules/preprocessing.html\n",
      "Please also refer to the documentation for alternative solver options:\n",
      "    https://scikit-learn.org/stable/modules/linear_model.html#logistic-regression\n",
      "\n"
     ]
    },
    {
     "name": "stdout",
     "output_type": "stream",
     "text": [
      "[CV 3/3; 6/20] END C=10, max_iter=200, penalty=l2;, score=0.387 total time=  36.1s\n",
      "[CV 1/3; 7/20] START C=10, max_iter=500, penalty=l2.............................\n",
      "[CV 1/3; 7/20] END C=10, max_iter=500, penalty=l2;, score=0.400 total time= 1.5min\n",
      "[CV 2/3; 7/20] START C=10, max_iter=500, penalty=l2.............................\n"
     ]
    },
    {
     "name": "stderr",
     "output_type": "stream",
     "text": [
      "c:\\users\\mehen\\appdata\\local\\programs\\python\\python39\\lib\\site-packages\\sklearn\\linear_model\\_logistic.py:763: ConvergenceWarning:\n",
      "\n",
      "lbfgs failed to converge (status=1):\n",
      "STOP: TOTAL NO. of ITERATIONS REACHED LIMIT.\n",
      "\n",
      "Increase the number of iterations (max_iter) or scale the data as shown in:\n",
      "    https://scikit-learn.org/stable/modules/preprocessing.html\n",
      "Please also refer to the documentation for alternative solver options:\n",
      "    https://scikit-learn.org/stable/modules/linear_model.html#logistic-regression\n",
      "\n"
     ]
    },
    {
     "name": "stdout",
     "output_type": "stream",
     "text": [
      "[CV 2/3; 7/20] END C=10, max_iter=500, penalty=l2;, score=0.404 total time= 1.5min\n",
      "[CV 3/3; 7/20] START C=10, max_iter=500, penalty=l2.............................\n"
     ]
    },
    {
     "name": "stderr",
     "output_type": "stream",
     "text": [
      "c:\\users\\mehen\\appdata\\local\\programs\\python\\python39\\lib\\site-packages\\sklearn\\linear_model\\_logistic.py:763: ConvergenceWarning:\n",
      "\n",
      "lbfgs failed to converge (status=1):\n",
      "STOP: TOTAL NO. of ITERATIONS REACHED LIMIT.\n",
      "\n",
      "Increase the number of iterations (max_iter) or scale the data as shown in:\n",
      "    https://scikit-learn.org/stable/modules/preprocessing.html\n",
      "Please also refer to the documentation for alternative solver options:\n",
      "    https://scikit-learn.org/stable/modules/linear_model.html#logistic-regression\n",
      "\n"
     ]
    },
    {
     "name": "stdout",
     "output_type": "stream",
     "text": [
      "[CV 3/3; 7/20] END C=10, max_iter=500, penalty=l2;, score=0.387 total time= 1.5min\n",
      "[CV 1/3; 8/20] START C=10, max_iter=1000, penalty=l2............................\n",
      "[CV 1/3; 8/20] END C=10, max_iter=1000, penalty=l2;, score=0.400 total time= 1.5min\n",
      "[CV 2/3; 8/20] START C=10, max_iter=1000, penalty=l2............................\n",
      "[CV 2/3; 8/20] END C=10, max_iter=1000, penalty=l2;, score=0.403 total time= 2.1min\n",
      "[CV 3/3; 8/20] START C=10, max_iter=1000, penalty=l2............................\n",
      "[CV 3/3; 8/20] END C=10, max_iter=1000, penalty=l2;, score=0.387 total time= 2.0min\n",
      "[CV 1/3; 9/20] START C=1.0, max_iter=100, penalty=l2............................\n"
     ]
    },
    {
     "name": "stderr",
     "output_type": "stream",
     "text": [
      "c:\\users\\mehen\\appdata\\local\\programs\\python\\python39\\lib\\site-packages\\sklearn\\linear_model\\_logistic.py:763: ConvergenceWarning:\n",
      "\n",
      "lbfgs failed to converge (status=1):\n",
      "STOP: TOTAL NO. of ITERATIONS REACHED LIMIT.\n",
      "\n",
      "Increase the number of iterations (max_iter) or scale the data as shown in:\n",
      "    https://scikit-learn.org/stable/modules/preprocessing.html\n",
      "Please also refer to the documentation for alternative solver options:\n",
      "    https://scikit-learn.org/stable/modules/linear_model.html#logistic-regression\n",
      "\n"
     ]
    },
    {
     "name": "stdout",
     "output_type": "stream",
     "text": [
      "[CV 1/3; 9/20] END C=1.0, max_iter=100, penalty=l2;, score=0.400 total time=  18.8s\n",
      "[CV 2/3; 9/20] START C=1.0, max_iter=100, penalty=l2............................\n"
     ]
    },
    {
     "name": "stderr",
     "output_type": "stream",
     "text": [
      "c:\\users\\mehen\\appdata\\local\\programs\\python\\python39\\lib\\site-packages\\sklearn\\linear_model\\_logistic.py:763: ConvergenceWarning:\n",
      "\n",
      "lbfgs failed to converge (status=1):\n",
      "STOP: TOTAL NO. of ITERATIONS REACHED LIMIT.\n",
      "\n",
      "Increase the number of iterations (max_iter) or scale the data as shown in:\n",
      "    https://scikit-learn.org/stable/modules/preprocessing.html\n",
      "Please also refer to the documentation for alternative solver options:\n",
      "    https://scikit-learn.org/stable/modules/linear_model.html#logistic-regression\n",
      "\n"
     ]
    },
    {
     "name": "stdout",
     "output_type": "stream",
     "text": [
      "[CV 2/3; 9/20] END C=1.0, max_iter=100, penalty=l2;, score=0.403 total time=  19.7s\n",
      "[CV 3/3; 9/20] START C=1.0, max_iter=100, penalty=l2............................\n"
     ]
    },
    {
     "name": "stderr",
     "output_type": "stream",
     "text": [
      "c:\\users\\mehen\\appdata\\local\\programs\\python\\python39\\lib\\site-packages\\sklearn\\linear_model\\_logistic.py:763: ConvergenceWarning:\n",
      "\n",
      "lbfgs failed to converge (status=1):\n",
      "STOP: TOTAL NO. of ITERATIONS REACHED LIMIT.\n",
      "\n",
      "Increase the number of iterations (max_iter) or scale the data as shown in:\n",
      "    https://scikit-learn.org/stable/modules/preprocessing.html\n",
      "Please also refer to the documentation for alternative solver options:\n",
      "    https://scikit-learn.org/stable/modules/linear_model.html#logistic-regression\n",
      "\n"
     ]
    },
    {
     "name": "stdout",
     "output_type": "stream",
     "text": [
      "[CV 3/3; 9/20] END C=1.0, max_iter=100, penalty=l2;, score=0.387 total time=  18.9s\n",
      "[CV 1/3; 10/20] START C=1.0, max_iter=200, penalty=l2...........................\n"
     ]
    },
    {
     "name": "stderr",
     "output_type": "stream",
     "text": [
      "c:\\users\\mehen\\appdata\\local\\programs\\python\\python39\\lib\\site-packages\\sklearn\\linear_model\\_logistic.py:763: ConvergenceWarning:\n",
      "\n",
      "lbfgs failed to converge (status=1):\n",
      "STOP: TOTAL NO. of ITERATIONS REACHED LIMIT.\n",
      "\n",
      "Increase the number of iterations (max_iter) or scale the data as shown in:\n",
      "    https://scikit-learn.org/stable/modules/preprocessing.html\n",
      "Please also refer to the documentation for alternative solver options:\n",
      "    https://scikit-learn.org/stable/modules/linear_model.html#logistic-regression\n",
      "\n"
     ]
    },
    {
     "name": "stdout",
     "output_type": "stream",
     "text": [
      "[CV 1/3; 10/20] END C=1.0, max_iter=200, penalty=l2;, score=0.400 total time=  37.8s\n",
      "[CV 2/3; 10/20] START C=1.0, max_iter=200, penalty=l2...........................\n"
     ]
    },
    {
     "name": "stderr",
     "output_type": "stream",
     "text": [
      "c:\\users\\mehen\\appdata\\local\\programs\\python\\python39\\lib\\site-packages\\sklearn\\linear_model\\_logistic.py:763: ConvergenceWarning:\n",
      "\n",
      "lbfgs failed to converge (status=1):\n",
      "STOP: TOTAL NO. of ITERATIONS REACHED LIMIT.\n",
      "\n",
      "Increase the number of iterations (max_iter) or scale the data as shown in:\n",
      "    https://scikit-learn.org/stable/modules/preprocessing.html\n",
      "Please also refer to the documentation for alternative solver options:\n",
      "    https://scikit-learn.org/stable/modules/linear_model.html#logistic-regression\n",
      "\n"
     ]
    },
    {
     "name": "stdout",
     "output_type": "stream",
     "text": [
      "[CV 2/3; 10/20] END C=1.0, max_iter=200, penalty=l2;, score=0.403 total time=  37.6s\n",
      "[CV 3/3; 10/20] START C=1.0, max_iter=200, penalty=l2...........................\n"
     ]
    },
    {
     "name": "stderr",
     "output_type": "stream",
     "text": [
      "c:\\users\\mehen\\appdata\\local\\programs\\python\\python39\\lib\\site-packages\\sklearn\\linear_model\\_logistic.py:763: ConvergenceWarning:\n",
      "\n",
      "lbfgs failed to converge (status=1):\n",
      "STOP: TOTAL NO. of ITERATIONS REACHED LIMIT.\n",
      "\n",
      "Increase the number of iterations (max_iter) or scale the data as shown in:\n",
      "    https://scikit-learn.org/stable/modules/preprocessing.html\n",
      "Please also refer to the documentation for alternative solver options:\n",
      "    https://scikit-learn.org/stable/modules/linear_model.html#logistic-regression\n",
      "\n"
     ]
    },
    {
     "name": "stdout",
     "output_type": "stream",
     "text": [
      "[CV 3/3; 10/20] END C=1.0, max_iter=200, penalty=l2;, score=0.387 total time=  37.5s\n",
      "[CV 1/3; 11/20] START C=1.0, max_iter=500, penalty=l2...........................\n"
     ]
    },
    {
     "name": "stderr",
     "output_type": "stream",
     "text": [
      "c:\\users\\mehen\\appdata\\local\\programs\\python\\python39\\lib\\site-packages\\sklearn\\linear_model\\_logistic.py:763: ConvergenceWarning:\n",
      "\n",
      "lbfgs failed to converge (status=1):\n",
      "STOP: TOTAL NO. of ITERATIONS REACHED LIMIT.\n",
      "\n",
      "Increase the number of iterations (max_iter) or scale the data as shown in:\n",
      "    https://scikit-learn.org/stable/modules/preprocessing.html\n",
      "Please also refer to the documentation for alternative solver options:\n",
      "    https://scikit-learn.org/stable/modules/linear_model.html#logistic-regression\n",
      "\n"
     ]
    },
    {
     "name": "stdout",
     "output_type": "stream",
     "text": [
      "[CV 1/3; 11/20] END C=1.0, max_iter=500, penalty=l2;, score=0.400 total time= 1.6min\n",
      "[CV 2/3; 11/20] START C=1.0, max_iter=500, penalty=l2...........................\n"
     ]
    },
    {
     "name": "stderr",
     "output_type": "stream",
     "text": [
      "c:\\users\\mehen\\appdata\\local\\programs\\python\\python39\\lib\\site-packages\\sklearn\\linear_model\\_logistic.py:763: ConvergenceWarning:\n",
      "\n",
      "lbfgs failed to converge (status=1):\n",
      "STOP: TOTAL NO. of ITERATIONS REACHED LIMIT.\n",
      "\n",
      "Increase the number of iterations (max_iter) or scale the data as shown in:\n",
      "    https://scikit-learn.org/stable/modules/preprocessing.html\n",
      "Please also refer to the documentation for alternative solver options:\n",
      "    https://scikit-learn.org/stable/modules/linear_model.html#logistic-regression\n",
      "\n"
     ]
    },
    {
     "name": "stdout",
     "output_type": "stream",
     "text": [
      "[CV 2/3; 11/20] END C=1.0, max_iter=500, penalty=l2;, score=0.404 total time= 1.6min\n",
      "[CV 3/3; 11/20] START C=1.0, max_iter=500, penalty=l2...........................\n"
     ]
    },
    {
     "name": "stderr",
     "output_type": "stream",
     "text": [
      "c:\\users\\mehen\\appdata\\local\\programs\\python\\python39\\lib\\site-packages\\sklearn\\linear_model\\_logistic.py:763: ConvergenceWarning:\n",
      "\n",
      "lbfgs failed to converge (status=1):\n",
      "STOP: TOTAL NO. of ITERATIONS REACHED LIMIT.\n",
      "\n",
      "Increase the number of iterations (max_iter) or scale the data as shown in:\n",
      "    https://scikit-learn.org/stable/modules/preprocessing.html\n",
      "Please also refer to the documentation for alternative solver options:\n",
      "    https://scikit-learn.org/stable/modules/linear_model.html#logistic-regression\n",
      "\n"
     ]
    },
    {
     "name": "stdout",
     "output_type": "stream",
     "text": [
      "[CV 3/3; 11/20] END C=1.0, max_iter=500, penalty=l2;, score=0.387 total time= 1.5min\n",
      "[CV 1/3; 12/20] START C=1.0, max_iter=1000, penalty=l2..........................\n",
      "[CV 1/3; 12/20] END C=1.0, max_iter=1000, penalty=l2;, score=0.400 total time= 2.2min\n",
      "[CV 2/3; 12/20] START C=1.0, max_iter=1000, penalty=l2..........................\n",
      "[CV 2/3; 12/20] END C=1.0, max_iter=1000, penalty=l2;, score=0.403 total time= 2.3min\n",
      "[CV 3/3; 12/20] START C=1.0, max_iter=1000, penalty=l2..........................\n",
      "[CV 3/3; 12/20] END C=1.0, max_iter=1000, penalty=l2;, score=0.387 total time= 2.4min\n",
      "[CV 1/3; 13/20] START C=0.1, max_iter=100, penalty=l2...........................\n"
     ]
    },
    {
     "name": "stderr",
     "output_type": "stream",
     "text": [
      "c:\\users\\mehen\\appdata\\local\\programs\\python\\python39\\lib\\site-packages\\sklearn\\linear_model\\_logistic.py:763: ConvergenceWarning:\n",
      "\n",
      "lbfgs failed to converge (status=1):\n",
      "STOP: TOTAL NO. of ITERATIONS REACHED LIMIT.\n",
      "\n",
      "Increase the number of iterations (max_iter) or scale the data as shown in:\n",
      "    https://scikit-learn.org/stable/modules/preprocessing.html\n",
      "Please also refer to the documentation for alternative solver options:\n",
      "    https://scikit-learn.org/stable/modules/linear_model.html#logistic-regression\n",
      "\n"
     ]
    },
    {
     "name": "stdout",
     "output_type": "stream",
     "text": [
      "[CV 1/3; 13/20] END C=0.1, max_iter=100, penalty=l2;, score=0.400 total time=  18.3s\n",
      "[CV 2/3; 13/20] START C=0.1, max_iter=100, penalty=l2...........................\n"
     ]
    },
    {
     "name": "stderr",
     "output_type": "stream",
     "text": [
      "c:\\users\\mehen\\appdata\\local\\programs\\python\\python39\\lib\\site-packages\\sklearn\\linear_model\\_logistic.py:763: ConvergenceWarning:\n",
      "\n",
      "lbfgs failed to converge (status=1):\n",
      "STOP: TOTAL NO. of ITERATIONS REACHED LIMIT.\n",
      "\n",
      "Increase the number of iterations (max_iter) or scale the data as shown in:\n",
      "    https://scikit-learn.org/stable/modules/preprocessing.html\n",
      "Please also refer to the documentation for alternative solver options:\n",
      "    https://scikit-learn.org/stable/modules/linear_model.html#logistic-regression\n",
      "\n"
     ]
    },
    {
     "name": "stdout",
     "output_type": "stream",
     "text": [
      "[CV 2/3; 13/20] END C=0.1, max_iter=100, penalty=l2;, score=0.403 total time=  19.7s\n",
      "[CV 3/3; 13/20] START C=0.1, max_iter=100, penalty=l2...........................\n"
     ]
    },
    {
     "name": "stderr",
     "output_type": "stream",
     "text": [
      "c:\\users\\mehen\\appdata\\local\\programs\\python\\python39\\lib\\site-packages\\sklearn\\linear_model\\_logistic.py:763: ConvergenceWarning:\n",
      "\n",
      "lbfgs failed to converge (status=1):\n",
      "STOP: TOTAL NO. of ITERATIONS REACHED LIMIT.\n",
      "\n",
      "Increase the number of iterations (max_iter) or scale the data as shown in:\n",
      "    https://scikit-learn.org/stable/modules/preprocessing.html\n",
      "Please also refer to the documentation for alternative solver options:\n",
      "    https://scikit-learn.org/stable/modules/linear_model.html#logistic-regression\n",
      "\n"
     ]
    },
    {
     "name": "stdout",
     "output_type": "stream",
     "text": [
      "[CV 3/3; 13/20] END C=0.1, max_iter=100, penalty=l2;, score=0.387 total time=  18.8s\n",
      "[CV 1/3; 14/20] START C=0.1, max_iter=200, penalty=l2...........................\n"
     ]
    },
    {
     "name": "stderr",
     "output_type": "stream",
     "text": [
      "c:\\users\\mehen\\appdata\\local\\programs\\python\\python39\\lib\\site-packages\\sklearn\\linear_model\\_logistic.py:763: ConvergenceWarning:\n",
      "\n",
      "lbfgs failed to converge (status=1):\n",
      "STOP: TOTAL NO. of ITERATIONS REACHED LIMIT.\n",
      "\n",
      "Increase the number of iterations (max_iter) or scale the data as shown in:\n",
      "    https://scikit-learn.org/stable/modules/preprocessing.html\n",
      "Please also refer to the documentation for alternative solver options:\n",
      "    https://scikit-learn.org/stable/modules/linear_model.html#logistic-regression\n",
      "\n"
     ]
    },
    {
     "name": "stdout",
     "output_type": "stream",
     "text": [
      "[CV 1/3; 14/20] END C=0.1, max_iter=200, penalty=l2;, score=0.400 total time=  37.1s\n",
      "[CV 2/3; 14/20] START C=0.1, max_iter=200, penalty=l2...........................\n"
     ]
    },
    {
     "name": "stderr",
     "output_type": "stream",
     "text": [
      "c:\\users\\mehen\\appdata\\local\\programs\\python\\python39\\lib\\site-packages\\sklearn\\linear_model\\_logistic.py:763: ConvergenceWarning:\n",
      "\n",
      "lbfgs failed to converge (status=1):\n",
      "STOP: TOTAL NO. of ITERATIONS REACHED LIMIT.\n",
      "\n",
      "Increase the number of iterations (max_iter) or scale the data as shown in:\n",
      "    https://scikit-learn.org/stable/modules/preprocessing.html\n",
      "Please also refer to the documentation for alternative solver options:\n",
      "    https://scikit-learn.org/stable/modules/linear_model.html#logistic-regression\n",
      "\n"
     ]
    },
    {
     "name": "stdout",
     "output_type": "stream",
     "text": [
      "[CV 2/3; 14/20] END C=0.1, max_iter=200, penalty=l2;, score=0.403 total time=  39.4s\n",
      "[CV 3/3; 14/20] START C=0.1, max_iter=200, penalty=l2...........................\n"
     ]
    },
    {
     "name": "stderr",
     "output_type": "stream",
     "text": [
      "c:\\users\\mehen\\appdata\\local\\programs\\python\\python39\\lib\\site-packages\\sklearn\\linear_model\\_logistic.py:763: ConvergenceWarning:\n",
      "\n",
      "lbfgs failed to converge (status=1):\n",
      "STOP: TOTAL NO. of ITERATIONS REACHED LIMIT.\n",
      "\n",
      "Increase the number of iterations (max_iter) or scale the data as shown in:\n",
      "    https://scikit-learn.org/stable/modules/preprocessing.html\n",
      "Please also refer to the documentation for alternative solver options:\n",
      "    https://scikit-learn.org/stable/modules/linear_model.html#logistic-regression\n",
      "\n"
     ]
    },
    {
     "name": "stdout",
     "output_type": "stream",
     "text": [
      "[CV 3/3; 14/20] END C=0.1, max_iter=200, penalty=l2;, score=0.387 total time=  37.4s\n",
      "[CV 1/3; 15/20] START C=0.1, max_iter=500, penalty=l2...........................\n",
      "[CV 1/3; 15/20] END C=0.1, max_iter=500, penalty=l2;, score=0.400 total time= 1.2min\n",
      "[CV 2/3; 15/20] START C=0.1, max_iter=500, penalty=l2...........................\n",
      "[CV 2/3; 15/20] END C=0.1, max_iter=500, penalty=l2;, score=0.403 total time= 1.2min\n",
      "[CV 3/3; 15/20] START C=0.1, max_iter=500, penalty=l2...........................\n",
      "[CV 3/3; 15/20] END C=0.1, max_iter=500, penalty=l2;, score=0.387 total time= 1.2min\n",
      "[CV 1/3; 16/20] START C=0.1, max_iter=1000, penalty=l2..........................\n",
      "[CV 1/3; 16/20] END C=0.1, max_iter=1000, penalty=l2;, score=0.400 total time= 1.2min\n",
      "[CV 2/3; 16/20] START C=0.1, max_iter=1000, penalty=l2..........................\n",
      "[CV 2/3; 16/20] END C=0.1, max_iter=1000, penalty=l2;, score=0.403 total time= 1.2min\n",
      "[CV 3/3; 16/20] START C=0.1, max_iter=1000, penalty=l2..........................\n",
      "[CV 3/3; 16/20] END C=0.1, max_iter=1000, penalty=l2;, score=0.387 total time= 1.2min\n",
      "[CV 1/3; 17/20] START C=0.01, max_iter=100, penalty=l2..........................\n"
     ]
    },
    {
     "name": "stderr",
     "output_type": "stream",
     "text": [
      "c:\\users\\mehen\\appdata\\local\\programs\\python\\python39\\lib\\site-packages\\sklearn\\linear_model\\_logistic.py:763: ConvergenceWarning:\n",
      "\n",
      "lbfgs failed to converge (status=1):\n",
      "STOP: TOTAL NO. of ITERATIONS REACHED LIMIT.\n",
      "\n",
      "Increase the number of iterations (max_iter) or scale the data as shown in:\n",
      "    https://scikit-learn.org/stable/modules/preprocessing.html\n",
      "Please also refer to the documentation for alternative solver options:\n",
      "    https://scikit-learn.org/stable/modules/linear_model.html#logistic-regression\n",
      "\n"
     ]
    },
    {
     "name": "stdout",
     "output_type": "stream",
     "text": [
      "[CV 1/3; 17/20] END C=0.01, max_iter=100, penalty=l2;, score=0.398 total time=  18.7s\n",
      "[CV 2/3; 17/20] START C=0.01, max_iter=100, penalty=l2..........................\n"
     ]
    },
    {
     "name": "stderr",
     "output_type": "stream",
     "text": [
      "c:\\users\\mehen\\appdata\\local\\programs\\python\\python39\\lib\\site-packages\\sklearn\\linear_model\\_logistic.py:763: ConvergenceWarning:\n",
      "\n",
      "lbfgs failed to converge (status=1):\n",
      "STOP: TOTAL NO. of ITERATIONS REACHED LIMIT.\n",
      "\n",
      "Increase the number of iterations (max_iter) or scale the data as shown in:\n",
      "    https://scikit-learn.org/stable/modules/preprocessing.html\n",
      "Please also refer to the documentation for alternative solver options:\n",
      "    https://scikit-learn.org/stable/modules/linear_model.html#logistic-regression\n",
      "\n"
     ]
    },
    {
     "name": "stdout",
     "output_type": "stream",
     "text": [
      "[CV 2/3; 17/20] END C=0.01, max_iter=100, penalty=l2;, score=0.402 total time=  18.9s\n",
      "[CV 3/3; 17/20] START C=0.01, max_iter=100, penalty=l2..........................\n"
     ]
    },
    {
     "name": "stderr",
     "output_type": "stream",
     "text": [
      "c:\\users\\mehen\\appdata\\local\\programs\\python\\python39\\lib\\site-packages\\sklearn\\linear_model\\_logistic.py:763: ConvergenceWarning:\n",
      "\n",
      "lbfgs failed to converge (status=1):\n",
      "STOP: TOTAL NO. of ITERATIONS REACHED LIMIT.\n",
      "\n",
      "Increase the number of iterations (max_iter) or scale the data as shown in:\n",
      "    https://scikit-learn.org/stable/modules/preprocessing.html\n",
      "Please also refer to the documentation for alternative solver options:\n",
      "    https://scikit-learn.org/stable/modules/linear_model.html#logistic-regression\n",
      "\n"
     ]
    },
    {
     "name": "stdout",
     "output_type": "stream",
     "text": [
      "[CV 3/3; 17/20] END C=0.01, max_iter=100, penalty=l2;, score=0.386 total time=  19.1s\n",
      "[CV 1/3; 18/20] START C=0.01, max_iter=200, penalty=l2..........................\n",
      "[CV 1/3; 18/20] END C=0.01, max_iter=200, penalty=l2;, score=0.398 total time=  31.4s\n",
      "[CV 2/3; 18/20] START C=0.01, max_iter=200, penalty=l2..........................\n",
      "[CV 2/3; 18/20] END C=0.01, max_iter=200, penalty=l2;, score=0.402 total time=  32.8s\n",
      "[CV 3/3; 18/20] START C=0.01, max_iter=200, penalty=l2..........................\n",
      "[CV 3/3; 18/20] END C=0.01, max_iter=200, penalty=l2;, score=0.386 total time=  34.5s\n",
      "[CV 1/3; 19/20] START C=0.01, max_iter=500, penalty=l2..........................\n",
      "[CV 1/3; 19/20] END C=0.01, max_iter=500, penalty=l2;, score=0.398 total time=  31.0s\n",
      "[CV 2/3; 19/20] START C=0.01, max_iter=500, penalty=l2..........................\n",
      "[CV 2/3; 19/20] END C=0.01, max_iter=500, penalty=l2;, score=0.402 total time=  32.8s\n",
      "[CV 3/3; 19/20] START C=0.01, max_iter=500, penalty=l2..........................\n",
      "[CV 3/3; 19/20] END C=0.01, max_iter=500, penalty=l2;, score=0.386 total time=  34.3s\n",
      "[CV 1/3; 20/20] START C=0.01, max_iter=1000, penalty=l2.........................\n",
      "[CV 1/3; 20/20] END C=0.01, max_iter=1000, penalty=l2;, score=0.398 total time=  31.1s\n",
      "[CV 2/3; 20/20] START C=0.01, max_iter=1000, penalty=l2.........................\n",
      "[CV 2/3; 20/20] END C=0.01, max_iter=1000, penalty=l2;, score=0.402 total time=  32.9s\n",
      "[CV 3/3; 20/20] START C=0.01, max_iter=1000, penalty=l2.........................\n",
      "[CV 3/3; 20/20] END C=0.01, max_iter=1000, penalty=l2;, score=0.386 total time=  34.4s\n"
     ]
    },
    {
     "name": "stderr",
     "output_type": "stream",
     "text": [
      "c:\\users\\mehen\\appdata\\local\\programs\\python\\python39\\lib\\site-packages\\sklearn\\linear_model\\_logistic.py:763: ConvergenceWarning:\n",
      "\n",
      "lbfgs failed to converge (status=1):\n",
      "STOP: TOTAL NO. of ITERATIONS REACHED LIMIT.\n",
      "\n",
      "Increase the number of iterations (max_iter) or scale the data as shown in:\n",
      "    https://scikit-learn.org/stable/modules/preprocessing.html\n",
      "Please also refer to the documentation for alternative solver options:\n",
      "    https://scikit-learn.org/stable/modules/linear_model.html#logistic-regression\n",
      "\n"
     ]
    },
    {
     "data": {
      "text/plain": [
       "GridSearchCV(cv=3, error_score=0, estimator=LogisticRegression(),\n",
       "             param_grid={'C': [100, 10, 1.0, 0.1, 0.01],\n",
       "                         'max_iter': [100, 200, 500, 1000], 'penalty': ['l2']},\n",
       "             scoring='accuracy', verbose=10)"
      ]
     },
     "execution_count": 98,
     "metadata": {},
     "output_type": "execute_result"
    }
   ],
   "source": [
    "# Use the random grid to search for best hyperparameters\n",
    "\n",
    "# First create the base model to tune\n",
    "lr = LogisticRegression()\n",
    "\n",
    "# Random search of parameters, using 3 fold cross validation, \n",
    "# search across 100 different combinations, and use all available cores\n",
    "log_reg_grid = GridSearchCV(estimator = lr, param_grid = grid, cv = 3, verbose=10, scoring='accuracy', error_score=0)\n",
    "\n",
    "# Fit the random search model\n",
    "log_reg_grid.fit(X_train, y_train)"
   ]
  },
  {
   "cell_type": "code",
   "execution_count": 99,
   "id": "88fb7378",
   "metadata": {},
   "outputs": [
    {
     "data": {
      "text/plain": [
       "{'C': 10, 'max_iter': 100, 'penalty': 'l2'}"
      ]
     },
     "execution_count": 99,
     "metadata": {},
     "output_type": "execute_result"
    }
   ],
   "source": [
    "log_reg_grid.best_params_"
   ]
  },
  {
   "cell_type": "code",
   "execution_count": 101,
   "id": "741f76f2",
   "metadata": {},
   "outputs": [
    {
     "name": "stderr",
     "output_type": "stream",
     "text": [
      "c:\\users\\mehen\\appdata\\local\\programs\\python\\python39\\lib\\site-packages\\sklearn\\linear_model\\_logistic.py:763: ConvergenceWarning:\n",
      "\n",
      "lbfgs failed to converge (status=1):\n",
      "STOP: TOTAL NO. of ITERATIONS REACHED LIMIT.\n",
      "\n",
      "Increase the number of iterations (max_iter) or scale the data as shown in:\n",
      "    https://scikit-learn.org/stable/modules/preprocessing.html\n",
      "Please also refer to the documentation for alternative solver options:\n",
      "    https://scikit-learn.org/stable/modules/linear_model.html#logistic-regression\n",
      "\n",
      "c:\\users\\mehen\\appdata\\local\\programs\\python\\python39\\lib\\site-packages\\sklearn\\linear_model\\_logistic.py:763: ConvergenceWarning:\n",
      "\n",
      "lbfgs failed to converge (status=1):\n",
      "STOP: TOTAL NO. of ITERATIONS REACHED LIMIT.\n",
      "\n",
      "Increase the number of iterations (max_iter) or scale the data as shown in:\n",
      "    https://scikit-learn.org/stable/modules/preprocessing.html\n",
      "Please also refer to the documentation for alternative solver options:\n",
      "    https://scikit-learn.org/stable/modules/linear_model.html#logistic-regression\n",
      "\n",
      "c:\\users\\mehen\\appdata\\local\\programs\\python\\python39\\lib\\site-packages\\sklearn\\linear_model\\_logistic.py:763: ConvergenceWarning:\n",
      "\n",
      "lbfgs failed to converge (status=1):\n",
      "STOP: TOTAL NO. of ITERATIONS REACHED LIMIT.\n",
      "\n",
      "Increase the number of iterations (max_iter) or scale the data as shown in:\n",
      "    https://scikit-learn.org/stable/modules/preprocessing.html\n",
      "Please also refer to the documentation for alternative solver options:\n",
      "    https://scikit-learn.org/stable/modules/linear_model.html#logistic-regression\n",
      "\n"
     ]
    },
    {
     "data": {
      "text/plain": [
       "0.39715737443395577"
      ]
     },
     "execution_count": 101,
     "metadata": {},
     "output_type": "execute_result"
    }
   ],
   "source": [
    "# Logistic Regression\n",
    "\n",
    "#define model\n",
    "log_reg = LogisticRegression(\n",
    "    penalty='l2', \n",
    "    C=10, \n",
    "    max_iter=100)\n",
    "\n",
    "scores = cross_val_score(log_reg , X_train, y_train, cv = 3)\n",
    "\n",
    "log_reg_best_cv_acc = scores.mean()\n",
    "log_reg_best_cv_acc"
   ]
  },
  {
   "cell_type": "code",
   "execution_count": 110,
   "id": "3bbddce4",
   "metadata": {},
   "outputs": [
    {
     "name": "stderr",
     "output_type": "stream",
     "text": [
      "c:\\users\\mehen\\appdata\\local\\programs\\python\\python39\\lib\\site-packages\\sklearn\\linear_model\\_logistic.py:763: ConvergenceWarning:\n",
      "\n",
      "lbfgs failed to converge (status=1):\n",
      "STOP: TOTAL NO. of ITERATIONS REACHED LIMIT.\n",
      "\n",
      "Increase the number of iterations (max_iter) or scale the data as shown in:\n",
      "    https://scikit-learn.org/stable/modules/preprocessing.html\n",
      "Please also refer to the documentation for alternative solver options:\n",
      "    https://scikit-learn.org/stable/modules/linear_model.html#logistic-regression\n",
      "\n"
     ]
    },
    {
     "data": {
      "text/plain": [
       "LogisticRegression(C=10)"
      ]
     },
     "execution_count": 110,
     "metadata": {},
     "output_type": "execute_result"
    }
   ],
   "source": [
    "log_reg = LogisticRegression(\n",
    "    penalty='l2', \n",
    "    C=10, \n",
    "    max_iter=100)\n",
    "log_reg.fit(X_train, y_train)"
   ]
  },
  {
   "cell_type": "code",
   "execution_count": 125,
   "id": "76ae3101",
   "metadata": {},
   "outputs": [
    {
     "name": "stdout",
     "output_type": "stream",
     "text": [
      "Top 10 Important Features for Logistic Regression\n",
      "\n",
      "             Attribute             \t        Absolute Importance        \n",
      "        --------------------       \t        --------------------       \n",
      "       Visitors with Patient       \t                2.02               \n",
      "            Ward_Type_S            \t                1.77               \n",
      "      Type of Admission_Trauma     \t                1.48               \n",
      "            Ward_Type_R            \t                1.33               \n",
      "          Hospital_code_29         \t                0.89               \n",
      "     Severity of Illness_Minor     \t                0.89               \n",
      "             Age_81-90             \t                0.84               \n",
      "          Hospital_code_4          \t                0.83               \n",
      "          Hospital_code_7          \t                0.77               \n",
      "          Hospital_code_24         \t                0.77               \n"
     ]
    },
    {
     "data": {
      "application/vnd.plotly.v1+json": {
       "config": {
        "plotlyServerURL": "https://plotly.com"
       },
       "data": [
        {
         "alignmentgroup": "True",
         "hovertemplate": "Coefficients=%{x}<br>Importance Score=%{y}<extra></extra>",
         "legendgroup": "",
         "marker": {
          "color": "#636efa",
          "pattern": {
           "shape": ""
          }
         },
         "name": "",
         "offsetgroup": "",
         "orientation": "v",
         "showlegend": false,
         "textposition": "auto",
         "type": "bar",
         "x": [
          "Severity of Illness_Minor",
          "Hospital_code_4",
          "Hospital_code_7",
          "Hospital_code_24",
          "Hospital_code_17",
          "City_Code_Hospital_4",
          "Hospital_code_13",
          "Hospital_code_31",
          "Hospital_code_3",
          "Ward_Facility_Code_E",
          "Hospital_code_27",
          "Hospital_region_code_Y",
          "Hospital_region_code_Z",
          "Severity of Illness_Moderate",
          "Ward_Facility_Code_F",
          "Ward_Facility_Code_C",
          "City_Code_Hospital_7",
          "Hospital_code_20",
          "Age_11-20",
          "City_Code_Hospital_3",
          "Available Extra Rooms in Hospital",
          "City_Code_Hospital_10",
          "Hospital_code_32",
          "Hospital_type_code_f",
          "Hospital_code_12",
          "Hospital_type_code_e",
          "Bed Grade_4.0",
          "Hospital_code_28",
          "City_Code_Hospital_11",
          "City_Code_Hospital_9",
          "City_Code_Hospital_5",
          "Age_51-60",
          "Bed Grade_3.0",
          "Ward_Facility_Code_B",
          "Hospital_code_5",
          "Hospital_type_code_b",
          "Hospital_code_6",
          "Hospital_code_15",
          "Hospital_code_11",
          "Ward_Type_U",
          "Age_61-70",
          "Ward_Facility_Code_D",
          "City_Code_Hospital_2",
          "Bed Grade_2.0",
          "Hospital_code_19",
          "Hospital_code_21",
          "Age_41-50",
          "Hospital_code_10",
          "Age_21-30",
          "Hospital_code_9",
          "City_Code_Hospital_6",
          "Department_anesthesia",
          "Hospital_type_code_d",
          "Hospital_type_code_c",
          "Hospital_code_23",
          "Hospital_code_18",
          "City_Code_Hospital_13",
          "Hospital_code_30",
          "Age_31-40",
          "Hospital_code_22",
          "Hospital_type_code_g",
          "Department_radiotherapy",
          "Hospital_code_16",
          "Hospital_code_26",
          "Ward_Type_Q",
          "Age_71-80",
          "Admission_Deposit",
          "Hospital_code_8",
          "Age_91-100",
          "Department_gynecology",
          "Hospital_code_25",
          "Hospital_code_2",
          "Hospital_code_14",
          "Type of Admission_Urgent",
          "Ward_Type_T",
          "Department_surgery",
          "Age_81-90",
          "Hospital_code_29",
          "Ward_Type_R",
          "Type of Admission_Trauma",
          "Ward_Type_S",
          "Visitors with Patient"
         ],
         "xaxis": "x",
         "y": [
          0.8855117280043778,
          0.83441692789093,
          0.7700023076220838,
          0.7660296582444086,
          0.7274913939878614,
          0.7157235760022908,
          0.6785968387960476,
          0.6680888306860351,
          0.6350266538883714,
          0.4695395536644892,
          0.40063278416964576,
          0.4001464783588681,
          0.3608246561118338,
          0.3552000975991264,
          0.3509728144145185,
          0.34870094067739144,
          0.34870094067739144,
          0.3186723648602216,
          0.2670591166798395,
          0.2660414813766362,
          0.26250729071800366,
          0.21236276438013293,
          0.1860604097001519,
          0.1860604097001519,
          0.1708174970107194,
          0.14160756555294884,
          0.12456294486872538,
          0.1113870662112921,
          0.1113870662112921,
          0.1052744730679334,
          0.09478317473519893,
          0.09383659118976213,
          0.0920157880893713,
          0.09105856620300956,
          0.08437331044154983,
          0.07177403768975855,
          0.0637515961984563,
          0.06319392279642774,
          0.012842702294069811,
          0.0018834412861414328,
          -0.0030292147917415566,
          -0.03961302852152926,
          -0.03961302852152926,
          -0.042743359857320674,
          -0.05193184349225379,
          -0.05757917555037509,
          -0.06981817314847874,
          -0.09206966125286399,
          -0.1231749186353435,
          -0.1396669232370506,
          -0.14003034545345563,
          -0.14053389305531488,
          -0.15388283010198134,
          -0.17810525944717034,
          -0.20378194165190688,
          -0.2265786712450589,
          -0.2265786712450589,
          -0.2289644490216565,
          -0.23994277398278546,
          -0.2516034336429426,
          -0.25160343364294513,
          -0.26637590816825607,
          -0.3196397215449333,
          -0.3711280956758189,
          -0.3751850528825257,
          -0.37710873372045034,
          -0.40811429908424185,
          -0.4308906570808197,
          -0.4409846545656142,
          -0.48565902074794925,
          -0.49381416718204524,
          -0.5073406636202352,
          -0.5224709805744286,
          -0.6794464085715044,
          -0.7270066863072503,
          -0.7392278704906906,
          -0.8353549147540319,
          -0.8886956595107222,
          -1.3346392752759713,
          -1.475757593243411,
          -1.770424529476802,
          -2.022501118350598
         ],
         "yaxis": "y"
        }
       ],
       "layout": {
        "barmode": "relative",
        "legend": {
         "tracegroupgap": 0
        },
        "margin": {
         "t": 60
        },
        "template": {
         "data": {
          "bar": [
           {
            "error_x": {
             "color": "#2a3f5f"
            },
            "error_y": {
             "color": "#2a3f5f"
            },
            "marker": {
             "line": {
              "color": "#E5ECF6",
              "width": 0.5
             },
             "pattern": {
              "fillmode": "overlay",
              "size": 10,
              "solidity": 0.2
             }
            },
            "type": "bar"
           }
          ],
          "barpolar": [
           {
            "marker": {
             "line": {
              "color": "#E5ECF6",
              "width": 0.5
             },
             "pattern": {
              "fillmode": "overlay",
              "size": 10,
              "solidity": 0.2
             }
            },
            "type": "barpolar"
           }
          ],
          "carpet": [
           {
            "aaxis": {
             "endlinecolor": "#2a3f5f",
             "gridcolor": "white",
             "linecolor": "white",
             "minorgridcolor": "white",
             "startlinecolor": "#2a3f5f"
            },
            "baxis": {
             "endlinecolor": "#2a3f5f",
             "gridcolor": "white",
             "linecolor": "white",
             "minorgridcolor": "white",
             "startlinecolor": "#2a3f5f"
            },
            "type": "carpet"
           }
          ],
          "choropleth": [
           {
            "colorbar": {
             "outlinewidth": 0,
             "ticks": ""
            },
            "type": "choropleth"
           }
          ],
          "contour": [
           {
            "colorbar": {
             "outlinewidth": 0,
             "ticks": ""
            },
            "colorscale": [
             [
              0,
              "#0d0887"
             ],
             [
              0.1111111111111111,
              "#46039f"
             ],
             [
              0.2222222222222222,
              "#7201a8"
             ],
             [
              0.3333333333333333,
              "#9c179e"
             ],
             [
              0.4444444444444444,
              "#bd3786"
             ],
             [
              0.5555555555555556,
              "#d8576b"
             ],
             [
              0.6666666666666666,
              "#ed7953"
             ],
             [
              0.7777777777777778,
              "#fb9f3a"
             ],
             [
              0.8888888888888888,
              "#fdca26"
             ],
             [
              1,
              "#f0f921"
             ]
            ],
            "type": "contour"
           }
          ],
          "contourcarpet": [
           {
            "colorbar": {
             "outlinewidth": 0,
             "ticks": ""
            },
            "type": "contourcarpet"
           }
          ],
          "heatmap": [
           {
            "colorbar": {
             "outlinewidth": 0,
             "ticks": ""
            },
            "colorscale": [
             [
              0,
              "#0d0887"
             ],
             [
              0.1111111111111111,
              "#46039f"
             ],
             [
              0.2222222222222222,
              "#7201a8"
             ],
             [
              0.3333333333333333,
              "#9c179e"
             ],
             [
              0.4444444444444444,
              "#bd3786"
             ],
             [
              0.5555555555555556,
              "#d8576b"
             ],
             [
              0.6666666666666666,
              "#ed7953"
             ],
             [
              0.7777777777777778,
              "#fb9f3a"
             ],
             [
              0.8888888888888888,
              "#fdca26"
             ],
             [
              1,
              "#f0f921"
             ]
            ],
            "type": "heatmap"
           }
          ],
          "heatmapgl": [
           {
            "colorbar": {
             "outlinewidth": 0,
             "ticks": ""
            },
            "colorscale": [
             [
              0,
              "#0d0887"
             ],
             [
              0.1111111111111111,
              "#46039f"
             ],
             [
              0.2222222222222222,
              "#7201a8"
             ],
             [
              0.3333333333333333,
              "#9c179e"
             ],
             [
              0.4444444444444444,
              "#bd3786"
             ],
             [
              0.5555555555555556,
              "#d8576b"
             ],
             [
              0.6666666666666666,
              "#ed7953"
             ],
             [
              0.7777777777777778,
              "#fb9f3a"
             ],
             [
              0.8888888888888888,
              "#fdca26"
             ],
             [
              1,
              "#f0f921"
             ]
            ],
            "type": "heatmapgl"
           }
          ],
          "histogram": [
           {
            "marker": {
             "pattern": {
              "fillmode": "overlay",
              "size": 10,
              "solidity": 0.2
             }
            },
            "type": "histogram"
           }
          ],
          "histogram2d": [
           {
            "colorbar": {
             "outlinewidth": 0,
             "ticks": ""
            },
            "colorscale": [
             [
              0,
              "#0d0887"
             ],
             [
              0.1111111111111111,
              "#46039f"
             ],
             [
              0.2222222222222222,
              "#7201a8"
             ],
             [
              0.3333333333333333,
              "#9c179e"
             ],
             [
              0.4444444444444444,
              "#bd3786"
             ],
             [
              0.5555555555555556,
              "#d8576b"
             ],
             [
              0.6666666666666666,
              "#ed7953"
             ],
             [
              0.7777777777777778,
              "#fb9f3a"
             ],
             [
              0.8888888888888888,
              "#fdca26"
             ],
             [
              1,
              "#f0f921"
             ]
            ],
            "type": "histogram2d"
           }
          ],
          "histogram2dcontour": [
           {
            "colorbar": {
             "outlinewidth": 0,
             "ticks": ""
            },
            "colorscale": [
             [
              0,
              "#0d0887"
             ],
             [
              0.1111111111111111,
              "#46039f"
             ],
             [
              0.2222222222222222,
              "#7201a8"
             ],
             [
              0.3333333333333333,
              "#9c179e"
             ],
             [
              0.4444444444444444,
              "#bd3786"
             ],
             [
              0.5555555555555556,
              "#d8576b"
             ],
             [
              0.6666666666666666,
              "#ed7953"
             ],
             [
              0.7777777777777778,
              "#fb9f3a"
             ],
             [
              0.8888888888888888,
              "#fdca26"
             ],
             [
              1,
              "#f0f921"
             ]
            ],
            "type": "histogram2dcontour"
           }
          ],
          "mesh3d": [
           {
            "colorbar": {
             "outlinewidth": 0,
             "ticks": ""
            },
            "type": "mesh3d"
           }
          ],
          "parcoords": [
           {
            "line": {
             "colorbar": {
              "outlinewidth": 0,
              "ticks": ""
             }
            },
            "type": "parcoords"
           }
          ],
          "pie": [
           {
            "automargin": true,
            "type": "pie"
           }
          ],
          "scatter": [
           {
            "marker": {
             "colorbar": {
              "outlinewidth": 0,
              "ticks": ""
             }
            },
            "type": "scatter"
           }
          ],
          "scatter3d": [
           {
            "line": {
             "colorbar": {
              "outlinewidth": 0,
              "ticks": ""
             }
            },
            "marker": {
             "colorbar": {
              "outlinewidth": 0,
              "ticks": ""
             }
            },
            "type": "scatter3d"
           }
          ],
          "scattercarpet": [
           {
            "marker": {
             "colorbar": {
              "outlinewidth": 0,
              "ticks": ""
             }
            },
            "type": "scattercarpet"
           }
          ],
          "scattergeo": [
           {
            "marker": {
             "colorbar": {
              "outlinewidth": 0,
              "ticks": ""
             }
            },
            "type": "scattergeo"
           }
          ],
          "scattergl": [
           {
            "marker": {
             "colorbar": {
              "outlinewidth": 0,
              "ticks": ""
             }
            },
            "type": "scattergl"
           }
          ],
          "scattermapbox": [
           {
            "marker": {
             "colorbar": {
              "outlinewidth": 0,
              "ticks": ""
             }
            },
            "type": "scattermapbox"
           }
          ],
          "scatterpolar": [
           {
            "marker": {
             "colorbar": {
              "outlinewidth": 0,
              "ticks": ""
             }
            },
            "type": "scatterpolar"
           }
          ],
          "scatterpolargl": [
           {
            "marker": {
             "colorbar": {
              "outlinewidth": 0,
              "ticks": ""
             }
            },
            "type": "scatterpolargl"
           }
          ],
          "scatterternary": [
           {
            "marker": {
             "colorbar": {
              "outlinewidth": 0,
              "ticks": ""
             }
            },
            "type": "scatterternary"
           }
          ],
          "surface": [
           {
            "colorbar": {
             "outlinewidth": 0,
             "ticks": ""
            },
            "colorscale": [
             [
              0,
              "#0d0887"
             ],
             [
              0.1111111111111111,
              "#46039f"
             ],
             [
              0.2222222222222222,
              "#7201a8"
             ],
             [
              0.3333333333333333,
              "#9c179e"
             ],
             [
              0.4444444444444444,
              "#bd3786"
             ],
             [
              0.5555555555555556,
              "#d8576b"
             ],
             [
              0.6666666666666666,
              "#ed7953"
             ],
             [
              0.7777777777777778,
              "#fb9f3a"
             ],
             [
              0.8888888888888888,
              "#fdca26"
             ],
             [
              1,
              "#f0f921"
             ]
            ],
            "type": "surface"
           }
          ],
          "table": [
           {
            "cells": {
             "fill": {
              "color": "#EBF0F8"
             },
             "line": {
              "color": "white"
             }
            },
            "header": {
             "fill": {
              "color": "#C8D4E3"
             },
             "line": {
              "color": "white"
             }
            },
            "type": "table"
           }
          ]
         },
         "layout": {
          "annotationdefaults": {
           "arrowcolor": "#2a3f5f",
           "arrowhead": 0,
           "arrowwidth": 1
          },
          "autotypenumbers": "strict",
          "coloraxis": {
           "colorbar": {
            "outlinewidth": 0,
            "ticks": ""
           }
          },
          "colorscale": {
           "diverging": [
            [
             0,
             "#8e0152"
            ],
            [
             0.1,
             "#c51b7d"
            ],
            [
             0.2,
             "#de77ae"
            ],
            [
             0.3,
             "#f1b6da"
            ],
            [
             0.4,
             "#fde0ef"
            ],
            [
             0.5,
             "#f7f7f7"
            ],
            [
             0.6,
             "#e6f5d0"
            ],
            [
             0.7,
             "#b8e186"
            ],
            [
             0.8,
             "#7fbc41"
            ],
            [
             0.9,
             "#4d9221"
            ],
            [
             1,
             "#276419"
            ]
           ],
           "sequential": [
            [
             0,
             "#0d0887"
            ],
            [
             0.1111111111111111,
             "#46039f"
            ],
            [
             0.2222222222222222,
             "#7201a8"
            ],
            [
             0.3333333333333333,
             "#9c179e"
            ],
            [
             0.4444444444444444,
             "#bd3786"
            ],
            [
             0.5555555555555556,
             "#d8576b"
            ],
            [
             0.6666666666666666,
             "#ed7953"
            ],
            [
             0.7777777777777778,
             "#fb9f3a"
            ],
            [
             0.8888888888888888,
             "#fdca26"
            ],
            [
             1,
             "#f0f921"
            ]
           ],
           "sequentialminus": [
            [
             0,
             "#0d0887"
            ],
            [
             0.1111111111111111,
             "#46039f"
            ],
            [
             0.2222222222222222,
             "#7201a8"
            ],
            [
             0.3333333333333333,
             "#9c179e"
            ],
            [
             0.4444444444444444,
             "#bd3786"
            ],
            [
             0.5555555555555556,
             "#d8576b"
            ],
            [
             0.6666666666666666,
             "#ed7953"
            ],
            [
             0.7777777777777778,
             "#fb9f3a"
            ],
            [
             0.8888888888888888,
             "#fdca26"
            ],
            [
             1,
             "#f0f921"
            ]
           ]
          },
          "colorway": [
           "#636efa",
           "#EF553B",
           "#00cc96",
           "#ab63fa",
           "#FFA15A",
           "#19d3f3",
           "#FF6692",
           "#B6E880",
           "#FF97FF",
           "#FECB52"
          ],
          "font": {
           "color": "#2a3f5f"
          },
          "geo": {
           "bgcolor": "white",
           "lakecolor": "white",
           "landcolor": "#E5ECF6",
           "showlakes": true,
           "showland": true,
           "subunitcolor": "white"
          },
          "hoverlabel": {
           "align": "left"
          },
          "hovermode": "closest",
          "mapbox": {
           "style": "light"
          },
          "paper_bgcolor": "white",
          "plot_bgcolor": "#E5ECF6",
          "polar": {
           "angularaxis": {
            "gridcolor": "white",
            "linecolor": "white",
            "ticks": ""
           },
           "bgcolor": "#E5ECF6",
           "radialaxis": {
            "gridcolor": "white",
            "linecolor": "white",
            "ticks": ""
           }
          },
          "scene": {
           "xaxis": {
            "backgroundcolor": "#E5ECF6",
            "gridcolor": "white",
            "gridwidth": 2,
            "linecolor": "white",
            "showbackground": true,
            "ticks": "",
            "zerolinecolor": "white"
           },
           "yaxis": {
            "backgroundcolor": "#E5ECF6",
            "gridcolor": "white",
            "gridwidth": 2,
            "linecolor": "white",
            "showbackground": true,
            "ticks": "",
            "zerolinecolor": "white"
           },
           "zaxis": {
            "backgroundcolor": "#E5ECF6",
            "gridcolor": "white",
            "gridwidth": 2,
            "linecolor": "white",
            "showbackground": true,
            "ticks": "",
            "zerolinecolor": "white"
           }
          },
          "shapedefaults": {
           "line": {
            "color": "#2a3f5f"
           }
          },
          "ternary": {
           "aaxis": {
            "gridcolor": "white",
            "linecolor": "white",
            "ticks": ""
           },
           "baxis": {
            "gridcolor": "white",
            "linecolor": "white",
            "ticks": ""
           },
           "bgcolor": "#E5ECF6",
           "caxis": {
            "gridcolor": "white",
            "linecolor": "white",
            "ticks": ""
           }
          },
          "title": {
           "x": 0.05
          },
          "xaxis": {
           "automargin": true,
           "gridcolor": "white",
           "linecolor": "white",
           "ticks": "",
           "title": {
            "standoff": 15
           },
           "zerolinecolor": "white",
           "zerolinewidth": 2
          },
          "yaxis": {
           "automargin": true,
           "gridcolor": "white",
           "linecolor": "white",
           "ticks": "",
           "title": {
            "standoff": 15
           },
           "zerolinecolor": "white",
           "zerolinewidth": 2
          }
         }
        },
        "title": {
         "text": "Logistic Regression Feature importances (coefficients)",
         "x": 0.5
        },
        "xaxis": {
         "anchor": "y",
         "domain": [
          0,
          1
         ],
         "title": {
          "text": "Coefficients"
         }
        },
        "yaxis": {
         "anchor": "x",
         "domain": [
          0,
          1
         ],
         "title": {
          "text": "Importance Score"
         }
        }
       }
      },
      "text/html": [
       "<div>                            <div id=\"2b2c4976-e646-4e10-8312-5a423ce2d177\" class=\"plotly-graph-div\" style=\"height:525px; width:100%;\"></div>            <script type=\"text/javascript\">                require([\"plotly\"], function(Plotly) {                    window.PLOTLYENV=window.PLOTLYENV || {};                                    if (document.getElementById(\"2b2c4976-e646-4e10-8312-5a423ce2d177\")) {                    Plotly.newPlot(                        \"2b2c4976-e646-4e10-8312-5a423ce2d177\",                        [{\"alignmentgroup\":\"True\",\"hovertemplate\":\"Coefficients=%{x}<br>Importance Score=%{y}<extra></extra>\",\"legendgroup\":\"\",\"marker\":{\"color\":\"#636efa\",\"pattern\":{\"shape\":\"\"}},\"name\":\"\",\"offsetgroup\":\"\",\"orientation\":\"v\",\"showlegend\":false,\"textposition\":\"auto\",\"type\":\"bar\",\"x\":[\"Severity of Illness_Minor\",\"Hospital_code_4\",\"Hospital_code_7\",\"Hospital_code_24\",\"Hospital_code_17\",\"City_Code_Hospital_4\",\"Hospital_code_13\",\"Hospital_code_31\",\"Hospital_code_3\",\"Ward_Facility_Code_E\",\"Hospital_code_27\",\"Hospital_region_code_Y\",\"Hospital_region_code_Z\",\"Severity of Illness_Moderate\",\"Ward_Facility_Code_F\",\"Ward_Facility_Code_C\",\"City_Code_Hospital_7\",\"Hospital_code_20\",\"Age_11-20\",\"City_Code_Hospital_3\",\"Available Extra Rooms in Hospital\",\"City_Code_Hospital_10\",\"Hospital_code_32\",\"Hospital_type_code_f\",\"Hospital_code_12\",\"Hospital_type_code_e\",\"Bed Grade_4.0\",\"Hospital_code_28\",\"City_Code_Hospital_11\",\"City_Code_Hospital_9\",\"City_Code_Hospital_5\",\"Age_51-60\",\"Bed Grade_3.0\",\"Ward_Facility_Code_B\",\"Hospital_code_5\",\"Hospital_type_code_b\",\"Hospital_code_6\",\"Hospital_code_15\",\"Hospital_code_11\",\"Ward_Type_U\",\"Age_61-70\",\"Ward_Facility_Code_D\",\"City_Code_Hospital_2\",\"Bed Grade_2.0\",\"Hospital_code_19\",\"Hospital_code_21\",\"Age_41-50\",\"Hospital_code_10\",\"Age_21-30\",\"Hospital_code_9\",\"City_Code_Hospital_6\",\"Department_anesthesia\",\"Hospital_type_code_d\",\"Hospital_type_code_c\",\"Hospital_code_23\",\"Hospital_code_18\",\"City_Code_Hospital_13\",\"Hospital_code_30\",\"Age_31-40\",\"Hospital_code_22\",\"Hospital_type_code_g\",\"Department_radiotherapy\",\"Hospital_code_16\",\"Hospital_code_26\",\"Ward_Type_Q\",\"Age_71-80\",\"Admission_Deposit\",\"Hospital_code_8\",\"Age_91-100\",\"Department_gynecology\",\"Hospital_code_25\",\"Hospital_code_2\",\"Hospital_code_14\",\"Type of Admission_Urgent\",\"Ward_Type_T\",\"Department_surgery\",\"Age_81-90\",\"Hospital_code_29\",\"Ward_Type_R\",\"Type of Admission_Trauma\",\"Ward_Type_S\",\"Visitors with Patient\"],\"xaxis\":\"x\",\"y\":[0.8855117280043778,0.83441692789093,0.7700023076220838,0.7660296582444086,0.7274913939878614,0.7157235760022908,0.6785968387960476,0.6680888306860351,0.6350266538883714,0.4695395536644892,0.40063278416964576,0.4001464783588681,0.3608246561118338,0.3552000975991264,0.3509728144145185,0.34870094067739144,0.34870094067739144,0.3186723648602216,0.2670591166798395,0.2660414813766362,0.26250729071800366,0.21236276438013293,0.1860604097001519,0.1860604097001519,0.1708174970107194,0.14160756555294884,0.12456294486872538,0.1113870662112921,0.1113870662112921,0.1052744730679334,0.09478317473519893,0.09383659118976213,0.0920157880893713,0.09105856620300956,0.08437331044154983,0.07177403768975855,0.0637515961984563,0.06319392279642774,0.012842702294069811,0.0018834412861414328,-0.0030292147917415566,-0.03961302852152926,-0.03961302852152926,-0.042743359857320674,-0.05193184349225379,-0.05757917555037509,-0.06981817314847874,-0.09206966125286399,-0.1231749186353435,-0.1396669232370506,-0.14003034545345563,-0.14053389305531488,-0.15388283010198134,-0.17810525944717034,-0.20378194165190688,-0.2265786712450589,-0.2265786712450589,-0.2289644490216565,-0.23994277398278546,-0.2516034336429426,-0.25160343364294513,-0.26637590816825607,-0.3196397215449333,-0.3711280956758189,-0.3751850528825257,-0.37710873372045034,-0.40811429908424185,-0.4308906570808197,-0.4409846545656142,-0.48565902074794925,-0.49381416718204524,-0.5073406636202352,-0.5224709805744286,-0.6794464085715044,-0.7270066863072503,-0.7392278704906906,-0.8353549147540319,-0.8886956595107222,-1.3346392752759713,-1.475757593243411,-1.770424529476802,-2.022501118350598],\"yaxis\":\"y\"}],                        {\"barmode\":\"relative\",\"legend\":{\"tracegroupgap\":0},\"margin\":{\"t\":60},\"template\":{\"data\":{\"bar\":[{\"error_x\":{\"color\":\"#2a3f5f\"},\"error_y\":{\"color\":\"#2a3f5f\"},\"marker\":{\"line\":{\"color\":\"#E5ECF6\",\"width\":0.5},\"pattern\":{\"fillmode\":\"overlay\",\"size\":10,\"solidity\":0.2}},\"type\":\"bar\"}],\"barpolar\":[{\"marker\":{\"line\":{\"color\":\"#E5ECF6\",\"width\":0.5},\"pattern\":{\"fillmode\":\"overlay\",\"size\":10,\"solidity\":0.2}},\"type\":\"barpolar\"}],\"carpet\":[{\"aaxis\":{\"endlinecolor\":\"#2a3f5f\",\"gridcolor\":\"white\",\"linecolor\":\"white\",\"minorgridcolor\":\"white\",\"startlinecolor\":\"#2a3f5f\"},\"baxis\":{\"endlinecolor\":\"#2a3f5f\",\"gridcolor\":\"white\",\"linecolor\":\"white\",\"minorgridcolor\":\"white\",\"startlinecolor\":\"#2a3f5f\"},\"type\":\"carpet\"}],\"choropleth\":[{\"colorbar\":{\"outlinewidth\":0,\"ticks\":\"\"},\"type\":\"choropleth\"}],\"contour\":[{\"colorbar\":{\"outlinewidth\":0,\"ticks\":\"\"},\"colorscale\":[[0.0,\"#0d0887\"],[0.1111111111111111,\"#46039f\"],[0.2222222222222222,\"#7201a8\"],[0.3333333333333333,\"#9c179e\"],[0.4444444444444444,\"#bd3786\"],[0.5555555555555556,\"#d8576b\"],[0.6666666666666666,\"#ed7953\"],[0.7777777777777778,\"#fb9f3a\"],[0.8888888888888888,\"#fdca26\"],[1.0,\"#f0f921\"]],\"type\":\"contour\"}],\"contourcarpet\":[{\"colorbar\":{\"outlinewidth\":0,\"ticks\":\"\"},\"type\":\"contourcarpet\"}],\"heatmap\":[{\"colorbar\":{\"outlinewidth\":0,\"ticks\":\"\"},\"colorscale\":[[0.0,\"#0d0887\"],[0.1111111111111111,\"#46039f\"],[0.2222222222222222,\"#7201a8\"],[0.3333333333333333,\"#9c179e\"],[0.4444444444444444,\"#bd3786\"],[0.5555555555555556,\"#d8576b\"],[0.6666666666666666,\"#ed7953\"],[0.7777777777777778,\"#fb9f3a\"],[0.8888888888888888,\"#fdca26\"],[1.0,\"#f0f921\"]],\"type\":\"heatmap\"}],\"heatmapgl\":[{\"colorbar\":{\"outlinewidth\":0,\"ticks\":\"\"},\"colorscale\":[[0.0,\"#0d0887\"],[0.1111111111111111,\"#46039f\"],[0.2222222222222222,\"#7201a8\"],[0.3333333333333333,\"#9c179e\"],[0.4444444444444444,\"#bd3786\"],[0.5555555555555556,\"#d8576b\"],[0.6666666666666666,\"#ed7953\"],[0.7777777777777778,\"#fb9f3a\"],[0.8888888888888888,\"#fdca26\"],[1.0,\"#f0f921\"]],\"type\":\"heatmapgl\"}],\"histogram\":[{\"marker\":{\"pattern\":{\"fillmode\":\"overlay\",\"size\":10,\"solidity\":0.2}},\"type\":\"histogram\"}],\"histogram2d\":[{\"colorbar\":{\"outlinewidth\":0,\"ticks\":\"\"},\"colorscale\":[[0.0,\"#0d0887\"],[0.1111111111111111,\"#46039f\"],[0.2222222222222222,\"#7201a8\"],[0.3333333333333333,\"#9c179e\"],[0.4444444444444444,\"#bd3786\"],[0.5555555555555556,\"#d8576b\"],[0.6666666666666666,\"#ed7953\"],[0.7777777777777778,\"#fb9f3a\"],[0.8888888888888888,\"#fdca26\"],[1.0,\"#f0f921\"]],\"type\":\"histogram2d\"}],\"histogram2dcontour\":[{\"colorbar\":{\"outlinewidth\":0,\"ticks\":\"\"},\"colorscale\":[[0.0,\"#0d0887\"],[0.1111111111111111,\"#46039f\"],[0.2222222222222222,\"#7201a8\"],[0.3333333333333333,\"#9c179e\"],[0.4444444444444444,\"#bd3786\"],[0.5555555555555556,\"#d8576b\"],[0.6666666666666666,\"#ed7953\"],[0.7777777777777778,\"#fb9f3a\"],[0.8888888888888888,\"#fdca26\"],[1.0,\"#f0f921\"]],\"type\":\"histogram2dcontour\"}],\"mesh3d\":[{\"colorbar\":{\"outlinewidth\":0,\"ticks\":\"\"},\"type\":\"mesh3d\"}],\"parcoords\":[{\"line\":{\"colorbar\":{\"outlinewidth\":0,\"ticks\":\"\"}},\"type\":\"parcoords\"}],\"pie\":[{\"automargin\":true,\"type\":\"pie\"}],\"scatter\":[{\"marker\":{\"colorbar\":{\"outlinewidth\":0,\"ticks\":\"\"}},\"type\":\"scatter\"}],\"scatter3d\":[{\"line\":{\"colorbar\":{\"outlinewidth\":0,\"ticks\":\"\"}},\"marker\":{\"colorbar\":{\"outlinewidth\":0,\"ticks\":\"\"}},\"type\":\"scatter3d\"}],\"scattercarpet\":[{\"marker\":{\"colorbar\":{\"outlinewidth\":0,\"ticks\":\"\"}},\"type\":\"scattercarpet\"}],\"scattergeo\":[{\"marker\":{\"colorbar\":{\"outlinewidth\":0,\"ticks\":\"\"}},\"type\":\"scattergeo\"}],\"scattergl\":[{\"marker\":{\"colorbar\":{\"outlinewidth\":0,\"ticks\":\"\"}},\"type\":\"scattergl\"}],\"scattermapbox\":[{\"marker\":{\"colorbar\":{\"outlinewidth\":0,\"ticks\":\"\"}},\"type\":\"scattermapbox\"}],\"scatterpolar\":[{\"marker\":{\"colorbar\":{\"outlinewidth\":0,\"ticks\":\"\"}},\"type\":\"scatterpolar\"}],\"scatterpolargl\":[{\"marker\":{\"colorbar\":{\"outlinewidth\":0,\"ticks\":\"\"}},\"type\":\"scatterpolargl\"}],\"scatterternary\":[{\"marker\":{\"colorbar\":{\"outlinewidth\":0,\"ticks\":\"\"}},\"type\":\"scatterternary\"}],\"surface\":[{\"colorbar\":{\"outlinewidth\":0,\"ticks\":\"\"},\"colorscale\":[[0.0,\"#0d0887\"],[0.1111111111111111,\"#46039f\"],[0.2222222222222222,\"#7201a8\"],[0.3333333333333333,\"#9c179e\"],[0.4444444444444444,\"#bd3786\"],[0.5555555555555556,\"#d8576b\"],[0.6666666666666666,\"#ed7953\"],[0.7777777777777778,\"#fb9f3a\"],[0.8888888888888888,\"#fdca26\"],[1.0,\"#f0f921\"]],\"type\":\"surface\"}],\"table\":[{\"cells\":{\"fill\":{\"color\":\"#EBF0F8\"},\"line\":{\"color\":\"white\"}},\"header\":{\"fill\":{\"color\":\"#C8D4E3\"},\"line\":{\"color\":\"white\"}},\"type\":\"table\"}]},\"layout\":{\"annotationdefaults\":{\"arrowcolor\":\"#2a3f5f\",\"arrowhead\":0,\"arrowwidth\":1},\"autotypenumbers\":\"strict\",\"coloraxis\":{\"colorbar\":{\"outlinewidth\":0,\"ticks\":\"\"}},\"colorscale\":{\"diverging\":[[0,\"#8e0152\"],[0.1,\"#c51b7d\"],[0.2,\"#de77ae\"],[0.3,\"#f1b6da\"],[0.4,\"#fde0ef\"],[0.5,\"#f7f7f7\"],[0.6,\"#e6f5d0\"],[0.7,\"#b8e186\"],[0.8,\"#7fbc41\"],[0.9,\"#4d9221\"],[1,\"#276419\"]],\"sequential\":[[0.0,\"#0d0887\"],[0.1111111111111111,\"#46039f\"],[0.2222222222222222,\"#7201a8\"],[0.3333333333333333,\"#9c179e\"],[0.4444444444444444,\"#bd3786\"],[0.5555555555555556,\"#d8576b\"],[0.6666666666666666,\"#ed7953\"],[0.7777777777777778,\"#fb9f3a\"],[0.8888888888888888,\"#fdca26\"],[1.0,\"#f0f921\"]],\"sequentialminus\":[[0.0,\"#0d0887\"],[0.1111111111111111,\"#46039f\"],[0.2222222222222222,\"#7201a8\"],[0.3333333333333333,\"#9c179e\"],[0.4444444444444444,\"#bd3786\"],[0.5555555555555556,\"#d8576b\"],[0.6666666666666666,\"#ed7953\"],[0.7777777777777778,\"#fb9f3a\"],[0.8888888888888888,\"#fdca26\"],[1.0,\"#f0f921\"]]},\"colorway\":[\"#636efa\",\"#EF553B\",\"#00cc96\",\"#ab63fa\",\"#FFA15A\",\"#19d3f3\",\"#FF6692\",\"#B6E880\",\"#FF97FF\",\"#FECB52\"],\"font\":{\"color\":\"#2a3f5f\"},\"geo\":{\"bgcolor\":\"white\",\"lakecolor\":\"white\",\"landcolor\":\"#E5ECF6\",\"showlakes\":true,\"showland\":true,\"subunitcolor\":\"white\"},\"hoverlabel\":{\"align\":\"left\"},\"hovermode\":\"closest\",\"mapbox\":{\"style\":\"light\"},\"paper_bgcolor\":\"white\",\"plot_bgcolor\":\"#E5ECF6\",\"polar\":{\"angularaxis\":{\"gridcolor\":\"white\",\"linecolor\":\"white\",\"ticks\":\"\"},\"bgcolor\":\"#E5ECF6\",\"radialaxis\":{\"gridcolor\":\"white\",\"linecolor\":\"white\",\"ticks\":\"\"}},\"scene\":{\"xaxis\":{\"backgroundcolor\":\"#E5ECF6\",\"gridcolor\":\"white\",\"gridwidth\":2,\"linecolor\":\"white\",\"showbackground\":true,\"ticks\":\"\",\"zerolinecolor\":\"white\"},\"yaxis\":{\"backgroundcolor\":\"#E5ECF6\",\"gridcolor\":\"white\",\"gridwidth\":2,\"linecolor\":\"white\",\"showbackground\":true,\"ticks\":\"\",\"zerolinecolor\":\"white\"},\"zaxis\":{\"backgroundcolor\":\"#E5ECF6\",\"gridcolor\":\"white\",\"gridwidth\":2,\"linecolor\":\"white\",\"showbackground\":true,\"ticks\":\"\",\"zerolinecolor\":\"white\"}},\"shapedefaults\":{\"line\":{\"color\":\"#2a3f5f\"}},\"ternary\":{\"aaxis\":{\"gridcolor\":\"white\",\"linecolor\":\"white\",\"ticks\":\"\"},\"baxis\":{\"gridcolor\":\"white\",\"linecolor\":\"white\",\"ticks\":\"\"},\"bgcolor\":\"#E5ECF6\",\"caxis\":{\"gridcolor\":\"white\",\"linecolor\":\"white\",\"ticks\":\"\"}},\"title\":{\"x\":0.05},\"xaxis\":{\"automargin\":true,\"gridcolor\":\"white\",\"linecolor\":\"white\",\"ticks\":\"\",\"title\":{\"standoff\":15},\"zerolinecolor\":\"white\",\"zerolinewidth\":2},\"yaxis\":{\"automargin\":true,\"gridcolor\":\"white\",\"linecolor\":\"white\",\"ticks\":\"\",\"title\":{\"standoff\":15},\"zerolinecolor\":\"white\",\"zerolinewidth\":2}}},\"title\":{\"text\":\"Logistic Regression Feature importances (coefficients)\",\"x\":0.5},\"xaxis\":{\"anchor\":\"y\",\"domain\":[0.0,1.0],\"title\":{\"text\":\"Coefficients\"}},\"yaxis\":{\"anchor\":\"x\",\"domain\":[0.0,1.0],\"title\":{\"text\":\"Importance Score\"}}},                        {\"responsive\": true}                    ).then(function(){\n",
       "                            \n",
       "var gd = document.getElementById('2b2c4976-e646-4e10-8312-5a423ce2d177');\n",
       "var x = new MutationObserver(function (mutations, observer) {{\n",
       "        var display = window.getComputedStyle(gd).display;\n",
       "        if (!display || display === 'none') {{\n",
       "            console.log([gd, 'removed!']);\n",
       "            Plotly.purge(gd);\n",
       "            observer.disconnect();\n",
       "        }}\n",
       "}});\n",
       "\n",
       "// Listen for the removal of the full notebook cells\n",
       "var notebookContainer = gd.closest('#notebook-container');\n",
       "if (notebookContainer) {{\n",
       "    x.observe(notebookContainer, {childList: true});\n",
       "}}\n",
       "\n",
       "// Listen for the clearing of the current output cell\n",
       "var outputEl = gd.closest('.output');\n",
       "if (outputEl) {{\n",
       "    x.observe(outputEl, {childList: true});\n",
       "}}\n",
       "\n",
       "                        })                };                });            </script>        </div>"
      ]
     },
     "metadata": {},
     "output_type": "display_data"
    },
    {
     "data": {
      "text/plain": [
       "'https://plotly.com/~vivekmehendiratta/32/'"
      ]
     },
     "execution_count": 125,
     "metadata": {},
     "output_type": "execute_result"
    }
   ],
   "source": [
    "#define model\n",
    "\n",
    "# get importance\n",
    "feature_importance = log_reg.coef_[0]\n",
    "\n",
    "# summarize feature importance\n",
    "print(\"Top 10 Important Features for Logistic Regression\\n\")\n",
    "print(\"Attribute\".center(35),\"Absolute Importance\".center(35), sep = \"\\t\")\n",
    "print(\"--------------------\".center(35),\"--------------------\".center(35), sep = \"\\t\")\n",
    "for importance, name in sorted(zip(abs(feature_importance), X_train.columns),reverse=True)[:10]:\n",
    "    print (name.center(35), format(importance,'.2f').center(35), sep = \"\\t\")\n",
    "    \n",
    "# plot feature importance\n",
    "importances = pd.DataFrame(data={\n",
    "    'Attribute': X_train.columns,\n",
    "    'Importance': feature_importance\n",
    "})\n",
    "importances = importances.sort_values(by='Importance', ascending=False) \n",
    "fig9 = px.bar(importances, x='Attribute', y='Importance', labels={\n",
    "    'Attribute':'Coefficients',\n",
    "    'Importance':'Importance Score'\n",
    "})\n",
    "\n",
    "fig9.update_layout(title=\"Logistic Regression Feature importances (coefficients)\",title_x=0.5)\n",
    "fig9.show()\n",
    "\n",
    "py.plot(fig9, filename = \"Logistic Regression Feature importances (coefficients)\",  auto_open = False)"
   ]
  },
  {
   "cell_type": "code",
   "execution_count": 116,
   "id": "b5db3fbc",
   "metadata": {},
   "outputs": [
    {
     "data": {
      "text/plain": [
       "array([9.20696613e-02, 1.28427023e-02, 1.70817497e-01, 6.78596839e-01,\n",
       "       5.22470981e-01, 6.31939228e-02, 3.19639722e-01, 7.27491394e-01,\n",
       "       2.26578671e-01, 5.19318435e-02, 5.07340664e-01, 3.18672365e-01,\n",
       "       5.75791756e-02, 2.51603434e-01, 2.03781942e-01, 7.66029658e-01,\n",
       "       4.93814167e-01, 3.71128096e-01, 4.00632784e-01, 1.11387066e-01,\n",
       "       8.88695660e-01, 6.35026654e-01, 2.28964449e-01, 6.68088831e-01,\n",
       "       1.86060410e-01, 8.34416928e-01, 8.43733104e-02, 6.37515962e-02,\n",
       "       7.70002308e-01, 4.30890657e-01, 1.39666923e-01, 7.17740377e-02,\n",
       "       1.78105259e-01, 1.53882830e-01, 1.41607566e-01, 1.86060410e-01,\n",
       "       2.51603434e-01, 2.12362764e-01, 1.11387066e-01, 2.26578671e-01,\n",
       "       3.96130285e-02, 2.66041481e-01, 7.15723576e-01, 9.47831747e-02,\n",
       "       1.40030345e-01, 3.48700941e-01, 1.05274473e-01, 4.00146478e-01,\n",
       "       3.60824656e-01, 1.40533893e-01, 4.85659021e-01, 2.66375908e-01,\n",
       "       7.39227870e-01, 3.75185053e-01, 1.33463928e+00, 1.77042453e+00,\n",
       "       7.27006686e-01, 1.88344129e-03, 9.10585662e-02, 3.48700941e-01,\n",
       "       3.96130285e-02, 4.69539554e-01, 3.50972814e-01, 4.27433599e-02,\n",
       "       9.20157881e-02, 1.24562945e-01, 1.47575759e+00, 6.79446409e-01,\n",
       "       8.85511728e-01, 3.55200098e-01, 2.67059117e-01, 1.23174919e-01,\n",
       "       2.39942774e-01, 6.98181731e-02, 9.38365912e-02, 3.02921479e-03,\n",
       "       3.77108734e-01, 8.35354915e-01, 4.40984655e-01, 4.08114299e-01,\n",
       "       2.62507291e-01, 2.02250112e+00])"
      ]
     },
     "execution_count": 116,
     "metadata": {},
     "output_type": "execute_result"
    }
   ],
   "source": [
    "abs(feature_importance)"
   ]
  },
  {
   "cell_type": "code",
   "execution_count": 103,
   "id": "15d61d77",
   "metadata": {},
   "outputs": [
    {
     "data": {
      "text/plain": [
       "(137057, 82)"
      ]
     },
     "execution_count": 103,
     "metadata": {},
     "output_type": "execute_result"
    }
   ],
   "source": [
    "X_test.shape"
   ]
  },
  {
   "cell_type": "code",
   "execution_count": null,
   "id": "e26ed166",
   "metadata": {},
   "outputs": [],
   "source": []
  }
 ],
 "metadata": {
  "kernelspec": {
   "display_name": "Python 3 (ipykernel)",
   "language": "python",
   "name": "python3"
  },
  "language_info": {
   "codemirror_mode": {
    "name": "ipython",
    "version": 3
   },
   "file_extension": ".py",
   "mimetype": "text/x-python",
   "name": "python",
   "nbconvert_exporter": "python",
   "pygments_lexer": "ipython3",
   "version": "3.9.6"
  }
 },
 "nbformat": 4,
 "nbformat_minor": 5
}
